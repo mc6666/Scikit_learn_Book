{
 "cells": [
  {
   "cell_type": "markdown",
   "metadata": {},
   "source": [
    "# GenericUnivariateSelect 單變數特徵選取(Univariate feature selection)"
   ]
  },
  {
   "cell_type": "markdown",
   "metadata": {},
   "source": [
    "## 載入相關套件"
   ]
  },
  {
   "cell_type": "code",
   "execution_count": 1,
   "metadata": {},
   "outputs": [],
   "source": [
    "from sklearn import datasets\n",
    "from sklearn.preprocessing import StandardScaler\n",
    "from sklearn.model_selection import train_test_split\n",
    "from sklearn.metrics import accuracy_score\n",
    "from sklearn.feature_selection import GenericUnivariateSelect, chi2"
   ]
  },
  {
   "cell_type": "markdown",
   "metadata": {},
   "source": [
    "## 載入資料集"
   ]
  },
  {
   "cell_type": "code",
   "execution_count": 2,
   "metadata": {},
   "outputs": [
    {
     "data": {
      "text/plain": [
       "(1797, 64)"
      ]
     },
     "execution_count": 2,
     "metadata": {},
     "output_type": "execute_result"
    }
   ],
   "source": [
    "X, y = datasets.load_digits(return_X_y=True)\n",
    "X.shape"
   ]
  },
  {
   "cell_type": "markdown",
   "metadata": {},
   "source": [
    "## GenericUnivariateSelect 特徵選取"
   ]
  },
  {
   "cell_type": "code",
   "execution_count": 27,
   "metadata": {
    "scrolled": false
   },
   "outputs": [
    {
     "data": {
      "text/plain": [
       "(1797, 20)"
      ]
     },
     "execution_count": 27,
     "metadata": {},
     "output_type": "execute_result"
    }
   ],
   "source": [
    "# 使用 SelectKBest, 20 個特徵\n",
    "clf = GenericUnivariateSelect(chi2, mode='k_best', param=20)\n",
    "X_new = clf.fit_transform(X, y)\n",
    "X_new.shape"
   ]
  },
  {
   "cell_type": "code",
   "execution_count": 28,
   "metadata": {},
   "outputs": [
    {
     "data": {
      "text/plain": [
       "array([          nan,  811.90700411, 3501.28249552,  698.9252572 ,\n",
       "        438.52969882, 3879.81925999, 3969.45823205, 1193.5608181 ,\n",
       "         24.79521396, 2953.83108764, 2583.65198939,  388.24205944,\n",
       "        824.69094853, 3676.48924765, 1983.5796061 ,  597.24198237,\n",
       "          8.95886124, 1924.21690377, 2409.27140681, 3556.31594594,\n",
       "       4871.94194551, 4782.19921618, 2155.17378998,  376.76583333,\n",
       "          7.90090158, 2471.82418401, 4515.48149826, 2986.64314847,\n",
       "       3724.09567634, 3208.64686641, 5138.07412439,   35.71270718,\n",
       "                 nan, 5688.25079535, 5262.46646904, 3165.0605867 ,\n",
       "       3231.63943369, 2532.99695611, 3288.81403655,           nan,\n",
       "        142.85082873, 3863.85787901, 6416.0867248 , 5448.25154235,\n",
       "       4079.73153383, 2134.02540236, 4486.34097862,  313.53898127,\n",
       "         70.39927392,  449.72327313, 2801.97224468, 1527.54519627,\n",
       "       1653.15892311, 3073.99803898, 5251.21748723,  683.88227339,\n",
       "          9.15254237,  851.06791492, 3800.2473108 ,  730.92975659,\n",
       "       1859.53966338, 4379.2250408 , 5059.00551511, 2281.32864013])"
      ]
     },
     "execution_count": 28,
     "metadata": {},
     "output_type": "execute_result"
    }
   ],
   "source": [
    "# 顯示特徵分數\n",
    "clf.scores_"
   ]
  },
  {
   "cell_type": "code",
   "execution_count": 29,
   "metadata": {},
   "outputs": [
    {
     "data": {
      "text/plain": [
       "array([            nan, 5.81310493e-169, 0.00000000e+000, 1.17740541e-144,\n",
       "       8.11314242e-089, 0.00000000e+000, 0.00000000e+000, 2.97727113e-251,\n",
       "       3.20626273e-003, 0.00000000e+000, 0.00000000e+000, 4.41344943e-078,\n",
       "       1.02825052e-171, 0.00000000e+000, 0.00000000e+000, 8.18335060e-123,\n",
       "       4.41080315e-001, 0.00000000e+000, 0.00000000e+000, 0.00000000e+000,\n",
       "       0.00000000e+000, 0.00000000e+000, 0.00000000e+000, 1.23435651e-075,\n",
       "       5.44163062e-001, 0.00000000e+000, 0.00000000e+000, 0.00000000e+000,\n",
       "       0.00000000e+000, 0.00000000e+000, 0.00000000e+000, 4.45801029e-005,\n",
       "                   nan, 0.00000000e+000, 0.00000000e+000, 0.00000000e+000,\n",
       "       0.00000000e+000, 0.00000000e+000, 0.00000000e+000,             nan,\n",
       "       2.65875300e-026, 0.00000000e+000, 0.00000000e+000, 0.00000000e+000,\n",
       "       0.00000000e+000, 0.00000000e+000, 0.00000000e+000, 3.49452723e-062,\n",
       "       1.27145348e-011, 3.28604761e-091, 0.00000000e+000, 0.00000000e+000,\n",
       "       0.00000000e+000, 0.00000000e+000, 0.00000000e+000, 2.01600539e-141,\n",
       "       4.23314114e-001, 2.14859356e-177, 0.00000000e+000, 1.54562173e-151,\n",
       "       0.00000000e+000, 0.00000000e+000, 0.00000000e+000, 0.00000000e+000])"
      ]
     },
     "execution_count": 29,
     "metadata": {},
     "output_type": "execute_result"
    }
   ],
   "source": [
    "# 顯示 p value\n",
    "clf.pvalues_"
   ]
  },
  {
   "cell_type": "markdown",
   "metadata": {},
   "source": [
    "## 3. 不須進行特徵工程"
   ]
  },
  {
   "cell_type": "markdown",
   "metadata": {},
   "source": [
    "## 4. 資料分割"
   ]
  },
  {
   "cell_type": "code",
   "execution_count": 18,
   "metadata": {},
   "outputs": [
    {
     "data": {
      "text/plain": [
       "((1437, 20), (360, 20), (1437,), (360,))"
      ]
     },
     "execution_count": 18,
     "metadata": {},
     "output_type": "execute_result"
    }
   ],
   "source": [
    "# 選擇部份特徵\n",
    "X = X_new\n",
    "\n",
    "# 資料分割\n",
    "X_train, X_test, y_train, y_test = train_test_split(X, y, test_size=.2)\n",
    "\n",
    "# 查看陣列維度\n",
    "X_train.shape, X_test.shape, y_train.shape, y_test.shape"
   ]
  },
  {
   "cell_type": "markdown",
   "metadata": {},
   "source": [
    "## 特徵縮放"
   ]
  },
  {
   "cell_type": "code",
   "execution_count": 19,
   "metadata": {},
   "outputs": [],
   "source": [
    "scaler = StandardScaler()\n",
    "X_train_std = scaler.fit_transform(X_train)\n",
    "X_test_std = scaler.transform(X_test)"
   ]
  },
  {
   "cell_type": "markdown",
   "metadata": {},
   "source": [
    "## 5. 選擇演算法"
   ]
  },
  {
   "cell_type": "code",
   "execution_count": 20,
   "metadata": {},
   "outputs": [],
   "source": [
    "from sklearn.linear_model import LogisticRegression\n",
    "clf = LogisticRegression()"
   ]
  },
  {
   "cell_type": "markdown",
   "metadata": {},
   "source": [
    "## 6. 模型訓練"
   ]
  },
  {
   "cell_type": "code",
   "execution_count": 21,
   "metadata": {
    "scrolled": true
   },
   "outputs": [
    {
     "data": {
      "text/html": [
       "<style>#sk-container-id-2 {color: black;background-color: white;}#sk-container-id-2 pre{padding: 0;}#sk-container-id-2 div.sk-toggleable {background-color: white;}#sk-container-id-2 label.sk-toggleable__label {cursor: pointer;display: block;width: 100%;margin-bottom: 0;padding: 0.3em;box-sizing: border-box;text-align: center;}#sk-container-id-2 label.sk-toggleable__label-arrow:before {content: \"▸\";float: left;margin-right: 0.25em;color: #696969;}#sk-container-id-2 label.sk-toggleable__label-arrow:hover:before {color: black;}#sk-container-id-2 div.sk-estimator:hover label.sk-toggleable__label-arrow:before {color: black;}#sk-container-id-2 div.sk-toggleable__content {max-height: 0;max-width: 0;overflow: hidden;text-align: left;background-color: #f0f8ff;}#sk-container-id-2 div.sk-toggleable__content pre {margin: 0.2em;color: black;border-radius: 0.25em;background-color: #f0f8ff;}#sk-container-id-2 input.sk-toggleable__control:checked~div.sk-toggleable__content {max-height: 200px;max-width: 100%;overflow: auto;}#sk-container-id-2 input.sk-toggleable__control:checked~label.sk-toggleable__label-arrow:before {content: \"▾\";}#sk-container-id-2 div.sk-estimator input.sk-toggleable__control:checked~label.sk-toggleable__label {background-color: #d4ebff;}#sk-container-id-2 div.sk-label input.sk-toggleable__control:checked~label.sk-toggleable__label {background-color: #d4ebff;}#sk-container-id-2 input.sk-hidden--visually {border: 0;clip: rect(1px 1px 1px 1px);clip: rect(1px, 1px, 1px, 1px);height: 1px;margin: -1px;overflow: hidden;padding: 0;position: absolute;width: 1px;}#sk-container-id-2 div.sk-estimator {font-family: monospace;background-color: #f0f8ff;border: 1px dotted black;border-radius: 0.25em;box-sizing: border-box;margin-bottom: 0.5em;}#sk-container-id-2 div.sk-estimator:hover {background-color: #d4ebff;}#sk-container-id-2 div.sk-parallel-item::after {content: \"\";width: 100%;border-bottom: 1px solid gray;flex-grow: 1;}#sk-container-id-2 div.sk-label:hover label.sk-toggleable__label {background-color: #d4ebff;}#sk-container-id-2 div.sk-serial::before {content: \"\";position: absolute;border-left: 1px solid gray;box-sizing: border-box;top: 0;bottom: 0;left: 50%;z-index: 0;}#sk-container-id-2 div.sk-serial {display: flex;flex-direction: column;align-items: center;background-color: white;padding-right: 0.2em;padding-left: 0.2em;position: relative;}#sk-container-id-2 div.sk-item {position: relative;z-index: 1;}#sk-container-id-2 div.sk-parallel {display: flex;align-items: stretch;justify-content: center;background-color: white;position: relative;}#sk-container-id-2 div.sk-item::before, #sk-container-id-2 div.sk-parallel-item::before {content: \"\";position: absolute;border-left: 1px solid gray;box-sizing: border-box;top: 0;bottom: 0;left: 50%;z-index: -1;}#sk-container-id-2 div.sk-parallel-item {display: flex;flex-direction: column;z-index: 1;position: relative;background-color: white;}#sk-container-id-2 div.sk-parallel-item:first-child::after {align-self: flex-end;width: 50%;}#sk-container-id-2 div.sk-parallel-item:last-child::after {align-self: flex-start;width: 50%;}#sk-container-id-2 div.sk-parallel-item:only-child::after {width: 0;}#sk-container-id-2 div.sk-dashed-wrapped {border: 1px dashed gray;margin: 0 0.4em 0.5em 0.4em;box-sizing: border-box;padding-bottom: 0.4em;background-color: white;}#sk-container-id-2 div.sk-label label {font-family: monospace;font-weight: bold;display: inline-block;line-height: 1.2em;}#sk-container-id-2 div.sk-label-container {text-align: center;}#sk-container-id-2 div.sk-container {/* jupyter's `normalize.less` sets `[hidden] { display: none; }` but bootstrap.min.css set `[hidden] { display: none !important; }` so we also need the `!important` here to be able to override the default hidden behavior on the sphinx rendered scikit-learn.org. See: https://github.com/scikit-learn/scikit-learn/issues/21755 */display: inline-block !important;position: relative;}#sk-container-id-2 div.sk-text-repr-fallback {display: none;}</style><div id=\"sk-container-id-2\" class=\"sk-top-container\"><div class=\"sk-text-repr-fallback\"><pre>LogisticRegression()</pre><b>In a Jupyter environment, please rerun this cell to show the HTML representation or trust the notebook. <br />On GitHub, the HTML representation is unable to render, please try loading this page with nbviewer.org.</b></div><div class=\"sk-container\" hidden><div class=\"sk-item\"><div class=\"sk-estimator sk-toggleable\"><input class=\"sk-toggleable__control sk-hidden--visually\" id=\"sk-estimator-id-2\" type=\"checkbox\" checked><label for=\"sk-estimator-id-2\" class=\"sk-toggleable__label sk-toggleable__label-arrow\">LogisticRegression</label><div class=\"sk-toggleable__content\"><pre>LogisticRegression()</pre></div></div></div></div></div>"
      ],
      "text/plain": [
       "LogisticRegression()"
      ]
     },
     "execution_count": 21,
     "metadata": {},
     "output_type": "execute_result"
    }
   ],
   "source": [
    "clf.fit(X_train_std, y_train)"
   ]
  },
  {
   "cell_type": "markdown",
   "metadata": {},
   "source": [
    "## 7. 模型計分"
   ]
  },
  {
   "cell_type": "code",
   "execution_count": 22,
   "metadata": {},
   "outputs": [
    {
     "data": {
      "text/plain": [
       "array([7, 5, 7, 0, 4, 0, 7, 9, 0, 0, 5, 5, 1, 5, 0, 8, 3, 6, 7, 4, 6, 6,\n",
       "       4, 9, 9, 7, 3, 7, 4, 7, 1, 1, 7, 8, 1, 1, 8, 1, 4, 4, 6, 7, 0, 1,\n",
       "       3, 0, 5, 2, 5, 1, 2, 5, 0, 4, 2, 8, 9, 1, 4, 4, 0, 4, 2, 0, 7, 3,\n",
       "       3, 4, 6, 3, 9, 2, 1, 3, 6, 8, 2, 8, 2, 8, 7, 8, 7, 1, 9, 9, 5, 1,\n",
       "       5, 7, 8, 5, 8, 8, 6, 7, 1, 0, 0, 1, 0, 5, 1, 1, 8, 0, 3, 0, 2, 4,\n",
       "       1, 5, 6, 2, 0, 9, 0, 0, 7, 2, 9, 2, 6, 6, 0, 3, 8, 2, 9, 5, 2, 8,\n",
       "       5, 1, 6, 0, 0, 3, 8, 0, 3, 7, 1, 8, 7, 1, 0, 8, 7, 0, 6, 9, 6, 6,\n",
       "       8, 8, 3, 5, 4, 6, 0, 6, 6, 3, 3, 3, 4, 2, 0, 9, 6, 2, 4, 5, 7, 6,\n",
       "       8, 0, 7, 3, 0, 4, 5, 0, 9, 0, 9, 7, 8, 0, 1, 2, 9, 9, 1, 1, 3, 7,\n",
       "       8, 4, 0, 9, 8, 3, 9, 5, 2, 9, 2, 4, 7, 8, 0, 9, 6, 6, 3, 9, 5, 1,\n",
       "       8, 7, 3, 1, 7, 9, 3, 9, 9, 1, 1, 2, 0, 8, 1, 9, 0, 1, 5, 2, 6, 3,\n",
       "       2, 1, 1, 6, 1, 5, 0, 1, 0, 7, 0, 0, 9, 1, 1, 9, 3, 6, 0, 6, 0, 6,\n",
       "       7, 5, 9, 1, 7, 6, 5, 5, 2, 3, 0, 9, 6, 8, 2, 0, 2, 1, 2, 5, 7, 3,\n",
       "       2, 5, 3, 7, 2, 9, 8, 6, 9, 9, 2, 1, 0, 3, 4, 9, 0, 1, 4, 9, 1, 5,\n",
       "       3, 8, 0, 3, 8, 1, 8, 5, 7, 4, 5, 0, 1, 4, 4, 3, 2, 6, 8, 7, 9, 0,\n",
       "       5, 5, 4, 7, 7, 5, 0, 5, 6, 1, 3, 2, 8, 5, 4, 8, 4, 6, 5, 9, 4, 7,\n",
       "       3, 2, 2, 6, 3, 2, 2, 5])"
      ]
     },
     "execution_count": 22,
     "metadata": {},
     "output_type": "execute_result"
    }
   ],
   "source": [
    "y_pred = clf.predict(X_test_std)\n",
    "y_pred"
   ]
  },
  {
   "cell_type": "code",
   "execution_count": 23,
   "metadata": {},
   "outputs": [
    {
     "name": "stdout",
     "output_type": "stream",
     "text": [
      "93.33%\n"
     ]
    }
   ],
   "source": [
    "# 計算準確率\n",
    "print(f'{accuracy_score(y_test, y_pred)*100:.2f}%') "
   ]
  },
  {
   "cell_type": "code",
   "execution_count": 24,
   "metadata": {},
   "outputs": [
    {
     "name": "stdout",
     "output_type": "stream",
     "text": [
      "[[47  0  0  0  0  0  0  0  0  0]\n",
      " [ 0 35  0  0  0  0  0  0  0  0]\n",
      " [ 0  1 32  0  0  0  0  0  0  0]\n",
      " [ 0  0  0 33  0  0  0  3  1  2]\n",
      " [ 0  3  0  0 27  0  0  0  0  0]\n",
      " [ 0  0  0  0  0 35  0  0  0  1]\n",
      " [ 0  1  0  0  0  0 33  0  0  0]\n",
      " [ 0  0  0  0  0  0  0 29  0  1]\n",
      " [ 1  1  2  0  0  1  0  2 33  0]\n",
      " [ 1  2  0  0  0  0  0  1  0 32]]\n"
     ]
    }
   ],
   "source": [
    "# 混淆矩陣\n",
    "from sklearn.metrics import confusion_matrix\n",
    "print(confusion_matrix(y_test, y_pred))"
   ]
  },
  {
   "cell_type": "code",
   "execution_count": 25,
   "metadata": {},
   "outputs": [
    {
     "data": {
      "image/png": "[encoded data removed]",
      "text/plain": [
       "<Figure size 432x288 with 2 Axes>"
      ]
     },
     "metadata": {
      "needs_background": "light"
     },
     "output_type": "display_data"
    }
   ],
   "source": [
    "# 混淆矩陣圖\n",
    "from sklearn.metrics import ConfusionMatrixDisplay\n",
    "import matplotlib.pyplot as plt\n",
    "\n",
    "disp = ConfusionMatrixDisplay(confusion_matrix=confusion_matrix(y_test, y_pred))\n",
    "disp.plot()\n",
    "plt.show()"
   ]
  },
  {
   "cell_type": "markdown",
   "metadata": {},
   "source": [
    "## 使用全部特徵"
   ]
  },
  {
   "cell_type": "code",
   "execution_count": 26,
   "metadata": {},
   "outputs": [
    {
     "name": "stdout",
     "output_type": "stream",
     "text": [
      "(1437, 64) (360, 64) (1437,) (360,)\n",
      "97.22%\n"
     ]
    }
   ],
   "source": [
    "# 載入資料集\n",
    "X, y = datasets.load_digits(return_X_y=True)\n",
    "\n",
    "# 資料分割\n",
    "X_train, X_test, y_train, y_test = train_test_split(X, y, test_size=.2)\n",
    "\n",
    "# 查看陣列維度\n",
    "print(X_train.shape, X_test.shape, y_train.shape, y_test.shape)\n",
    "\n",
    "# 特徵縮放\n",
    "scaler = StandardScaler()\n",
    "X_train_std = scaler.fit_transform(X_train)\n",
    "X_test_std = scaler.transform(X_test)\n",
    "\n",
    "# 模型訓練\n",
    "from sklearn.linear_model import LogisticRegression\n",
    "clf = LogisticRegression()\n",
    "clf.fit(X_train_std, y_train)\n",
    "\n",
    "# 模型計分\n",
    "y_pred = clf.predict(X_test_std)\n",
    "print(f'{accuracy_score(y_test, y_pred)*100:.2f}%') "
   ]
  },
  {
   "cell_type": "code",
   "execution_count": null,
   "metadata": {},
   "outputs": [],
   "source": []
  }
 ],
 "metadata": {
  "kernelspec": {
   "display_name": "Python 3 (ipykernel)",
   "language": "python",
   "name": "python3"
  },
  "language_info": {
   "codemirror_mode": {
    "name": "ipython",
    "version": 3
   },
   "file_extension": ".py",
   "mimetype": "text/x-python",
   "name": "python",
   "nbconvert_exporter": "python",
   "pygments_lexer": "ipython3",
   "version": "3.9.13"
  }
 },
 "nbformat": 4,
 "nbformat_minor": 2
}
