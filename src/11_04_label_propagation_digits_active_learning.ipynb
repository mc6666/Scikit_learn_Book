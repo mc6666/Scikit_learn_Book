{
 "cells": [
  {
   "cell_type": "markdown",
   "metadata": {},
   "source": [
    "# [Label Propagation digits active learning](https://scikit-learn.org/stable/auto_examples/semi_supervised/plot_label_propagation_digits_active_learning.html)"
   ]
  },
  {
   "cell_type": "markdown",
   "metadata": {},
   "source": [
    "## 載入相關套件"
   ]
  },
  {
   "cell_type": "code",
   "execution_count": 1,
   "metadata": {},
   "outputs": [],
   "source": [
    "import numpy as np\n",
    "import matplotlib.pyplot as plt\n",
    "from scipy import stats\n",
    "from sklearn import datasets\n",
    "from sklearn.semi_supervised import LabelSpreading\n",
    "from sklearn.metrics import classification_report, confusion_matrix"
   ]
  },
  {
   "cell_type": "markdown",
   "metadata": {},
   "source": [
    "## 載入資料集"
   ]
  },
  {
   "cell_type": "code",
   "execution_count": 2,
   "metadata": {},
   "outputs": [
    {
     "data": {
      "text/plain": [
       "290"
      ]
     },
     "execution_count": 2,
     "metadata": {},
     "output_type": "execute_result"
    }
   ],
   "source": [
    "digits = datasets.load_digits()\n",
    "rng = np.random.RandomState(0)\n",
    "indices = np.arange(len(digits.data))\n",
    "rng.shuffle(indices)\n",
    "\n",
    "# 取前 330 筆資料\n",
    "X = digits.data[indices[:330]]\n",
    "y = digits.target[indices[:330]]\n",
    "images = digits.images[indices[:330]]\n",
    "\n",
    "# 參數設定\n",
    "n_total_samples = len(y)\n",
    "n_labeled_points = 40    # 初始取40筆標註資料\n",
    "max_iterations = 5       # 5 個執行週期\n",
    "\n",
    "unlabeled_indices = np.arange(n_total_samples)[n_labeled_points:]\n",
    "len(unlabeled_indices)"
   ]
  },
  {
   "cell_type": "markdown",
   "metadata": {},
   "source": [
    "## Label propagation 模型訓練與評估"
   ]
  },
  {
   "cell_type": "code",
   "execution_count": 3,
   "metadata": {},
   "outputs": [
    {
     "name": "stdout",
     "output_type": "stream",
     "text": [
      "Iteration 0 ______________________________________________________________________\n",
      "Label Spreading model: 40 labeled & 290 unlabeled (330 total)\n",
      "              precision    recall  f1-score   support\n",
      "\n",
      "           0       1.00      1.00      1.00        22\n",
      "           1       0.78      0.69      0.73        26\n",
      "           2       0.93      0.93      0.93        29\n",
      "           3       1.00      0.89      0.94        27\n",
      "           4       0.92      0.96      0.94        23\n",
      "           5       0.96      0.70      0.81        33\n",
      "           6       0.97      0.97      0.97        35\n",
      "           7       0.94      0.91      0.92        33\n",
      "           8       0.62      0.89      0.74        28\n",
      "           9       0.73      0.79      0.76        34\n",
      "\n",
      "    accuracy                           0.87       290\n",
      "   macro avg       0.89      0.87      0.87       290\n",
      "weighted avg       0.88      0.87      0.87       290\n",
      "\n",
      "Confusion matrix\n",
      "[[22  0  0  0  0  0  0  0  0  0]\n",
      " [ 0 18  2  0  0  0  1  0  5  0]\n",
      " [ 0  0 27  0  0  0  0  0  2  0]\n",
      " [ 0  0  0 24  0  0  0  0  3  0]\n",
      " [ 0  1  0  0 22  0  0  0  0  0]\n",
      " [ 0  0  0  0  0 23  0  0  0 10]\n",
      " [ 0  1  0  0  0  0 34  0  0  0]\n",
      " [ 0  0  0  0  0  0  0 30  3  0]\n",
      " [ 0  3  0  0  0  0  0  0 25  0]\n",
      " [ 0  0  0  0  2  1  0  2  2 27]]\n",
      "Iteration 1 ______________________________________________________________________\n",
      "Label Spreading model: 45 labeled & 285 unlabeled (330 total)\n",
      "Confusion matrix\n",
      "[[22  0  0  0  0  0  0  0  0  0]\n",
      " [ 0 22  0  0  0  0  0  0  0  0]\n",
      " [ 0  0 27  0  0  0  0  0  2  0]\n",
      " [ 0  0  0 26  0  0  0  0  0  0]\n",
      " [ 0  1  0  0 22  0  0  0  0  0]\n",
      " [ 0  0  0  0  0 23  0  0  0 10]\n",
      " [ 0  1  0  0  0  0 34  0  0  0]\n",
      " [ 0  0  0  0  0  0  0 30  3  0]\n",
      " [ 0  4  0  0  0  0  0  0 24  0]\n",
      " [ 0  0  0  0  2  1  0  2  2 27]]\n",
      "Iteration 2 ______________________________________________________________________\n",
      "Label Spreading model: 50 labeled & 280 unlabeled (330 total)\n",
      "Confusion matrix\n",
      "[[22  0  0  0  0  0  0  0  0  0]\n",
      " [ 0 22  0  0  0  0  0  0  0  0]\n",
      " [ 0  0 28  0  0  0  0  0  0  0]\n",
      " [ 0  0  0 26  0  0  0  0  0  0]\n",
      " [ 0  0  0  0 20  0  0  0  0  0]\n",
      " [ 0  0  0  0  0 23  0  0  0 10]\n",
      " [ 0  1  0  0  0  0 34  0  0  0]\n",
      " [ 0  0  0  0  0  0  0 32  0  0]\n",
      " [ 0  3  0  0  1  0  0  0 24  0]\n",
      " [ 0  0  0  0  2  1  0  2  2 27]]\n",
      "Iteration 3 ______________________________________________________________________\n",
      "Label Spreading model: 55 labeled & 275 unlabeled (330 total)\n",
      "Confusion matrix\n",
      "[[22  0  0  0  0  0  0  0  0  0]\n",
      " [ 0 22  0  0  0  0  0  0  0  0]\n",
      " [ 0  0 27  0  0  0  0  0  0  0]\n",
      " [ 0  0  0 26  0  0  0  0  0  0]\n",
      " [ 0  0  0  0 20  0  0  0  0  0]\n",
      " [ 0  0  0  0  0 27  0  0  0  4]\n",
      " [ 0  1  0  0  0  0 34  0  0  0]\n",
      " [ 0  0  0  0  0  0  0 31  0  0]\n",
      " [ 0  3  0  0  1  0  0  0 24  0]\n",
      " [ 0  0  0  0  2  1  0  0  2 28]]\n",
      "Iteration 4 ______________________________________________________________________\n",
      "Label Spreading model: 60 labeled & 270 unlabeled (330 total)\n",
      "              precision    recall  f1-score   support\n",
      "\n",
      "           0       1.00      1.00      1.00        22\n",
      "           1       0.96      1.00      0.98        22\n",
      "           2       1.00      0.96      0.98        27\n",
      "           3       0.96      1.00      0.98        25\n",
      "           4       0.86      1.00      0.93        19\n",
      "           5       0.96      0.87      0.92        31\n",
      "           6       1.00      0.97      0.99        35\n",
      "           7       1.00      1.00      1.00        31\n",
      "           8       0.92      0.96      0.94        25\n",
      "           9       0.88      0.85      0.86        33\n",
      "\n",
      "    accuracy                           0.96       270\n",
      "   macro avg       0.95      0.96      0.96       270\n",
      "weighted avg       0.96      0.96      0.96       270\n",
      "\n",
      "Confusion matrix\n",
      "[[22  0  0  0  0  0  0  0  0  0]\n",
      " [ 0 22  0  0  0  0  0  0  0  0]\n",
      " [ 0  0 26  1  0  0  0  0  0  0]\n",
      " [ 0  0  0 25  0  0  0  0  0  0]\n",
      " [ 0  0  0  0 19  0  0  0  0  0]\n",
      " [ 0  0  0  0  0 27  0  0  0  4]\n",
      " [ 0  1  0  0  0  0 34  0  0  0]\n",
      " [ 0  0  0  0  0  0  0 31  0  0]\n",
      " [ 0  0  0  0  1  0  0  0 24  0]\n",
      " [ 0  0  0  0  2  1  0  0  2 28]]\n",
      "\n",
      "最不確定的五筆資料：\n"
     ]
    },
    {
     "data": {
      "image/png": "[encoded data removed]",
      "text/plain": [
       "<Figure size 432x288 with 25 Axes>"
      ]
     },
     "metadata": {
      "needs_background": "light"
     },
     "output_type": "display_data"
    }
   ],
   "source": [
    "f = plt.figure()\n",
    "for i in range(max_iterations):\n",
    "    y_train = np.copy(y)\n",
    "    y_train[unlabeled_indices] = -1\n",
    "\n",
    "    # LabelSpreading 模型訓練\n",
    "    lp_model = LabelSpreading(gamma=0.25, max_iter=20)\n",
    "    lp_model.fit(X, y_train)\n",
    "\n",
    "    # 預測\n",
    "    predicted_labels = lp_model.transduction_[unlabeled_indices]\n",
    "    true_labels = y[unlabeled_indices]\n",
    "\n",
    "    print(f\"Iteration {i} {70 * '_'}\")\n",
    "    print(\n",
    "        f\"Label Spreading model: {n_labeled_points} labeled & \" +\n",
    "        f\"{n_total_samples - n_labeled_points} unlabeled ({n_total_samples} total)\"\n",
    "    )\n",
    "    \n",
    "    if i==0 or i==max_iterations-1:\n",
    "        print(classification_report(true_labels, predicted_labels))\n",
    "\n",
    "    print(\"Confusion matrix\")\n",
    "    cm = confusion_matrix(true_labels, predicted_labels, labels=lp_model.classes_)\n",
    "    print(cm)\n",
    "\n",
    "    # 計算熵，以找出最不確定的五筆資料\n",
    "    pred_entropies = stats.distributions.entropy(lp_model.label_distributions_.T)\n",
    "    uncertainty_index = np.argsort(pred_entropies)[::-1]\n",
    "    uncertainty_index = uncertainty_index[\n",
    "        np.in1d(uncertainty_index, unlabeled_indices)\n",
    "    ][:5]\n",
    "\n",
    "    # 記錄最不確定的五筆資料\n",
    "    delete_indices = np.array([], dtype=int)\n",
    "    f.text(\n",
    "        0.05,\n",
    "        (1 - (i + 1) * 0.183),\n",
    "        f\"model {i + 1}\\n\\nfit with\\n{n_labeled_points} labels\",\n",
    "        size=10,\n",
    "    )\n",
    "    for index, image_index in enumerate(uncertainty_index):\n",
    "        image = images[image_index]\n",
    "\n",
    "        sub = f.add_subplot(5, 5, index + 1 + (5 * i))\n",
    "        sub.imshow(image, cmap=plt.cm.gray_r, interpolation=\"none\")\n",
    "        sub.set_title(\n",
    "            f\"predict: {lp_model.transduction_[image_index]}\\ntrue: {y[image_index]}\",\n",
    "            size=10,\n",
    "        )\n",
    "        sub.axis(\"off\")\n",
    "\n",
    "        # 將最不確定的五筆資料加入待刪除的陣列\n",
    "        (delete_index,) = np.where(unlabeled_indices == image_index)\n",
    "        delete_indices = np.concatenate((delete_indices, delete_index))\n",
    "\n",
    "    # 將最不確定的五筆資料加入標註資料\n",
    "    unlabeled_indices = np.delete(unlabeled_indices, delete_indices)\n",
    "    n_labeled_points += len(uncertainty_index)\n",
    "\n",
    "print(\"\\n最不確定的五筆資料：\")\n",
    "plt.subplots_adjust(left=0.2, bottom=0.03, right=0.9, top=0.9, wspace=0.2, hspace=0.85)"
   ]
  },
  {
   "cell_type": "code",
   "execution_count": null,
   "metadata": {},
   "outputs": [],
   "source": []
  }
 ],
 "metadata": {
  "kernelspec": {
   "display_name": "Python 3 (ipykernel)",
   "language": "python",
   "name": "python3"
  },
  "language_info": {
   "codemirror_mode": {
    "name": "ipython",
    "version": 3
   },
   "file_extension": ".py",
   "mimetype": "text/x-python",
   "name": "python",
   "nbconvert_exporter": "python",
   "pygments_lexer": "ipython3",
   "version": "3.9.13"
  }
 },
 "nbformat": 4,
 "nbformat_minor": 2
}
