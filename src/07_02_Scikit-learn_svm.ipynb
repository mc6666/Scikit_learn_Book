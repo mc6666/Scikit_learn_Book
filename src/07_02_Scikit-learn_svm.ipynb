{
 "cells": [
  {
   "cell_type": "markdown",
   "metadata": {},
   "source": [
    "# 以Scikit-learn SVM進行鳶尾花(Iris)品種的辨識"
   ]
  },
  {
   "cell_type": "markdown",
   "metadata": {},
   "source": [
    "## 載入相關套件"
   ]
  },
  {
   "cell_type": "code",
   "execution_count": 1,
   "metadata": {},
   "outputs": [],
   "source": [
    "from sklearn import datasets\n",
    "from sklearn.model_selection import train_test_split\n",
    "from sklearn.metrics import accuracy_score\n",
    "import numpy as np"
   ]
  },
  {
   "cell_type": "markdown",
   "metadata": {},
   "source": [
    "## 載入資料集"
   ]
  },
  {
   "cell_type": "code",
   "execution_count": 2,
   "metadata": {},
   "outputs": [],
   "source": [
    "X, y = datasets.load_iris(return_X_y=True)"
   ]
  },
  {
   "cell_type": "markdown",
   "metadata": {},
   "source": [
    "## 資料分割"
   ]
  },
  {
   "cell_type": "code",
   "execution_count": 3,
   "metadata": {},
   "outputs": [],
   "source": [
    "X_train, X_test, y_train, y_test = train_test_split(X, y, test_size=.2)"
   ]
  },
  {
   "cell_type": "markdown",
   "metadata": {},
   "source": [
    "## 特徵縮放"
   ]
  },
  {
   "cell_type": "code",
   "execution_count": 4,
   "metadata": {},
   "outputs": [],
   "source": [
    "from sklearn.preprocessing import StandardScaler\n",
    "\n",
    "scaler = StandardScaler()\n",
    "X_train_std = scaler.fit_transform(X_train)\n",
    "X_test_std = scaler.transform(X_test)"
   ]
  },
  {
   "cell_type": "markdown",
   "metadata": {},
   "source": [
    "## 模型訓練"
   ]
  },
  {
   "cell_type": "code",
   "execution_count": 10,
   "metadata": {},
   "outputs": [
    {
     "data": {
      "text/html": [
       "<style>#sk-container-id-2 {color: black;background-color: white;}#sk-container-id-2 pre{padding: 0;}#sk-container-id-2 div.sk-toggleable {background-color: white;}#sk-container-id-2 label.sk-toggleable__label {cursor: pointer;display: block;width: 100%;margin-bottom: 0;padding: 0.3em;box-sizing: border-box;text-align: center;}#sk-container-id-2 label.sk-toggleable__label-arrow:before {content: \"▸\";float: left;margin-right: 0.25em;color: #696969;}#sk-container-id-2 label.sk-toggleable__label-arrow:hover:before {color: black;}#sk-container-id-2 div.sk-estimator:hover label.sk-toggleable__label-arrow:before {color: black;}#sk-container-id-2 div.sk-toggleable__content {max-height: 0;max-width: 0;overflow: hidden;text-align: left;background-color: #f0f8ff;}#sk-container-id-2 div.sk-toggleable__content pre {margin: 0.2em;color: black;border-radius: 0.25em;background-color: #f0f8ff;}#sk-container-id-2 input.sk-toggleable__control:checked~div.sk-toggleable__content {max-height: 200px;max-width: 100%;overflow: auto;}#sk-container-id-2 input.sk-toggleable__control:checked~label.sk-toggleable__label-arrow:before {content: \"▾\";}#sk-container-id-2 div.sk-estimator input.sk-toggleable__control:checked~label.sk-toggleable__label {background-color: #d4ebff;}#sk-container-id-2 div.sk-label input.sk-toggleable__control:checked~label.sk-toggleable__label {background-color: #d4ebff;}#sk-container-id-2 input.sk-hidden--visually {border: 0;clip: rect(1px 1px 1px 1px);clip: rect(1px, 1px, 1px, 1px);height: 1px;margin: -1px;overflow: hidden;padding: 0;position: absolute;width: 1px;}#sk-container-id-2 div.sk-estimator {font-family: monospace;background-color: #f0f8ff;border: 1px dotted black;border-radius: 0.25em;box-sizing: border-box;margin-bottom: 0.5em;}#sk-container-id-2 div.sk-estimator:hover {background-color: #d4ebff;}#sk-container-id-2 div.sk-parallel-item::after {content: \"\";width: 100%;border-bottom: 1px solid gray;flex-grow: 1;}#sk-container-id-2 div.sk-label:hover label.sk-toggleable__label {background-color: #d4ebff;}#sk-container-id-2 div.sk-serial::before {content: \"\";position: absolute;border-left: 1px solid gray;box-sizing: border-box;top: 0;bottom: 0;left: 50%;z-index: 0;}#sk-container-id-2 div.sk-serial {display: flex;flex-direction: column;align-items: center;background-color: white;padding-right: 0.2em;padding-left: 0.2em;position: relative;}#sk-container-id-2 div.sk-item {position: relative;z-index: 1;}#sk-container-id-2 div.sk-parallel {display: flex;align-items: stretch;justify-content: center;background-color: white;position: relative;}#sk-container-id-2 div.sk-item::before, #sk-container-id-2 div.sk-parallel-item::before {content: \"\";position: absolute;border-left: 1px solid gray;box-sizing: border-box;top: 0;bottom: 0;left: 50%;z-index: -1;}#sk-container-id-2 div.sk-parallel-item {display: flex;flex-direction: column;z-index: 1;position: relative;background-color: white;}#sk-container-id-2 div.sk-parallel-item:first-child::after {align-self: flex-end;width: 50%;}#sk-container-id-2 div.sk-parallel-item:last-child::after {align-self: flex-start;width: 50%;}#sk-container-id-2 div.sk-parallel-item:only-child::after {width: 0;}#sk-container-id-2 div.sk-dashed-wrapped {border: 1px dashed gray;margin: 0 0.4em 0.5em 0.4em;box-sizing: border-box;padding-bottom: 0.4em;background-color: white;}#sk-container-id-2 div.sk-label label {font-family: monospace;font-weight: bold;display: inline-block;line-height: 1.2em;}#sk-container-id-2 div.sk-label-container {text-align: center;}#sk-container-id-2 div.sk-container {/* jupyter's `normalize.less` sets `[hidden] { display: none; }` but bootstrap.min.css set `[hidden] { display: none !important; }` so we also need the `!important` here to be able to override the default hidden behavior on the sphinx rendered scikit-learn.org. See: https://github.com/scikit-learn/scikit-learn/issues/21755 */display: inline-block !important;position: relative;}#sk-container-id-2 div.sk-text-repr-fallback {display: none;}</style><div id=\"sk-container-id-2\" class=\"sk-top-container\"><div class=\"sk-text-repr-fallback\"><pre>SVC(probability=True)</pre><b>In a Jupyter environment, please rerun this cell to show the HTML representation or trust the notebook. <br />On GitHub, the HTML representation is unable to render, please try loading this page with nbviewer.org.</b></div><div class=\"sk-container\" hidden><div class=\"sk-item\"><div class=\"sk-estimator sk-toggleable\"><input class=\"sk-toggleable__control sk-hidden--visually\" id=\"sk-estimator-id-2\" type=\"checkbox\" checked><label for=\"sk-estimator-id-2\" class=\"sk-toggleable__label sk-toggleable__label-arrow\">SVC</label><div class=\"sk-toggleable__content\"><pre>SVC(probability=True)</pre></div></div></div></div></div>"
      ],
      "text/plain": [
       "SVC(probability=True)"
      ]
     },
     "execution_count": 10,
     "metadata": {},
     "output_type": "execute_result"
    }
   ],
   "source": [
    "from sklearn.svm import SVC\n",
    "\n",
    "clf = SVC(probability=True)\n",
    "clf.fit(X_train_std, y_train)"
   ]
  },
  {
   "cell_type": "markdown",
   "metadata": {},
   "source": [
    "## 模型評分"
   ]
  },
  {
   "cell_type": "code",
   "execution_count": 11,
   "metadata": {},
   "outputs": [
    {
     "name": "stdout",
     "output_type": "stream",
     "text": [
      "100.00%\n"
     ]
    }
   ],
   "source": [
    "# 計算準確率\n",
    "y_pred = clf.predict(X_test_std)\n",
    "print(f'{accuracy_score(y_test, y_pred)*100:.2f}%') "
   ]
  },
  {
   "cell_type": "code",
   "execution_count": 12,
   "metadata": {},
   "outputs": [
    {
     "data": {
      "text/plain": [
       "array([[-1.67184579, -1.6957369 , -1.41981813, -1.2136154 ],\n",
       "       [-0.60722701,  0.71111547, -1.30787452, -1.08335256],\n",
       "       [-1.08039091, -0.16410357, -1.25190271, -1.34387823],\n",
       "       [-1.79013676, -0.38290833, -1.36384632, -1.34387823],\n",
       "       [-1.55355481,  1.148725  , -1.58773354, -1.34387823],\n",
       "       [-0.25235408,  2.89916309, -1.30787452, -1.08335256],\n",
       "       [-0.96209993,  0.49231071, -1.19593091, -0.95308973],\n",
       "       [-1.90842774, -0.16410357, -1.53176174, -1.47414106],\n",
       "       [ 0.45739177, -1.6957369 ,  0.31530784,  0.08901294],\n",
       "       [ 0.93055567,  0.05470119,  0.48322325,  0.3495386 ],\n",
       "       [ 1.04884665, -0.60171309,  0.53919506,  0.21927577],\n",
       "       [ 0.10251885, -0.38290833,  0.37127964,  0.3495386 ],\n",
       "       [-0.37064506, -0.16410357,  0.37127964,  0.3495386 ],\n",
       "       [-0.84380896, -0.82051786,  0.03544881,  0.21927577],\n",
       "       [ 0.93055567, -0.16410357,  0.65113867,  0.61006427],\n",
       "       [ 0.69397372, -0.60171309,  0.42725145,  0.3495386 ],\n",
       "       [-1.08039091, -2.35215119, -0.18843841, -0.30177556],\n",
       "       [-0.96209993, -1.25812738, -0.46829744, -0.17151273],\n",
       "       [ 1.2854286 ,  0.27350595,  0.48322325,  0.21927577],\n",
       "       [ 0.3391008 , -1.91454166,  0.37127964,  0.3495386 ],\n",
       "       [-0.60722701, -0.16410357,  0.37127964,  0.3495386 ],\n",
       "       [ 1.16713762,  0.05470119,  0.59516686,  0.3495386 ],\n",
       "       [ 0.45739177, -1.25812738,  0.59516686,  0.3495386 ],\n",
       "       [-0.48893603, -1.6957369 ,  0.09142062,  0.08901294],\n",
       "       [-0.01577213,  0.27350595,  0.53919506,  0.7403271 ],\n",
       "       [ 0.10251885, -0.82051786,  0.70711047,  0.47980144],\n",
       "       [-1.19868188, -1.47693214, -0.30038202, -0.30177556],\n",
       "       [ 0.10251885,  0.71111547,  0.37127964,  0.47980144],\n",
       "       [ 0.10251885, -1.91454166,  0.65113867,  0.3495386 ],\n",
       "       [ 1.52201055,  0.27350595,  1.21085672,  0.7403271 ],\n",
       "       [ 0.69397372,  0.27350595,  0.70711047,  1.00085277],\n",
       "       [ 1.52201055, -0.16410357,  1.09891311,  0.47980144],\n",
       "       [ 0.69397372, -0.16410357,  0.93099769,  0.7403271 ],\n",
       "       [-0.13406311, -0.82051786,  0.70711047,  0.87058994],\n",
       "       [ 0.45739177, -0.60171309,  0.70711047,  0.3495386 ],\n",
       "       [-0.01577213, -0.16410357,  0.70711047,  0.7403271 ],\n",
       "       [-0.37064506, -0.60171309,  0.59516686,  1.00085277],\n",
       "       [ 0.45739177, -0.38290833,  0.9869695 ,  0.7403271 ],\n",
       "       [ 0.22080982, -1.03932262,  0.9869695 ,  0.21927577],\n",
       "       [ 2.11346543, -1.03932262,  1.71460297,  1.39164127],\n",
       "       [-0.13406311, -0.82051786,  0.70711047,  0.87058994],\n",
       "       [ 2.35004738,  1.58633452,  1.43474394,  1.00085277],\n",
       "       [ 0.3391008 ,  0.71111547,  0.87502589,  1.39164127],\n",
       "       [ 0.45739177, -1.25812738,  0.65113867,  0.87058994],\n",
       "       [ 0.69397372, -0.16410357,  0.76308228,  1.00085277],\n",
       "       [-1.19868188, -1.25812738,  0.37127964,  0.61006427]])"
      ]
     },
     "execution_count": 12,
     "metadata": {},
     "output_type": "execute_result"
    }
   ],
   "source": [
    "clf.support_vectors_"
   ]
  },
  {
   "cell_type": "code",
   "execution_count": 13,
   "metadata": {},
   "outputs": [
    {
     "data": {
      "text/plain": [
       "array([ 34,  68,  71,  91,  94,  99, 100, 119,   8,   9,  23,  31,  33,\n",
       "        45,  48,  49,  52,  62,  65,  70,  79,  80,  82,  85,  93,  97,\n",
       "        98, 102,  10,  11,  16,  17,  19,  21,  24,  27,  44,  47,  64,\n",
       "        67,  72,  77,  88,  89, 112, 117])"
      ]
     },
     "execution_count": 13,
     "metadata": {},
     "output_type": "execute_result"
    }
   ],
   "source": [
    "clf.support_"
   ]
  },
  {
   "cell_type": "code",
   "execution_count": 14,
   "metadata": {},
   "outputs": [
    {
     "data": {
      "text/plain": [
       "array([[0.31200265, 0.30892925, 0.3790681 ],\n",
       "       [0.27924154, 0.28418253, 0.43657593],\n",
       "       [0.31426633, 0.31036102, 0.37537266],\n",
       "       [0.27858745, 0.28396668, 0.43744587],\n",
       "       [0.30900388, 0.30700212, 0.38399401],\n",
       "       [0.31217161, 0.30903499, 0.37879339],\n",
       "       [0.3120006 , 0.30892431, 0.37907508],\n",
       "       [0.31442297, 0.3104593 , 0.37511774],\n",
       "       [0.25522482, 0.26662586, 0.47814933],\n",
       "       [0.31443167, 0.31046369, 0.37510465],\n",
       "       [0.28408765, 0.28767204, 0.42824031],\n",
       "       [0.27853438, 0.28395018, 0.43751544],\n",
       "       [0.29195562, 0.29623574, 0.41180863],\n",
       "       [0.31460321, 0.31057027, 0.37482652],\n",
       "       [0.28600633, 0.29252745, 0.42146622],\n",
       "       [0.31419664, 0.31031701, 0.37548634],\n",
       "       [0.31437885, 0.31043112, 0.37519003],\n",
       "       [0.3146347 , 0.31058943, 0.37477587],\n",
       "       [0.31243689, 0.3092018 , 0.37836131],\n",
       "       [0.31223646, 0.30907699, 0.37868655],\n",
       "       [0.3123927 , 0.30918301, 0.37842429],\n",
       "       [0.27381341, 0.28030622, 0.44588038],\n",
       "       [0.29090049, 0.29560902, 0.41349048],\n",
       "       [0.31434549, 0.31041097, 0.37524355],\n",
       "       [0.31279259, 0.30942945, 0.37777796],\n",
       "       [0.31463136, 0.31058738, 0.37478126],\n",
       "       [0.30233167, 0.30294353, 0.3947248 ],\n",
       "       [0.27551029, 0.28140693, 0.44308278],\n",
       "       [0.31459789, 0.31056678, 0.37483532],\n",
       "       [0.29153921, 0.29513898, 0.41332182]])"
      ]
     },
     "execution_count": 14,
     "metadata": {},
     "output_type": "execute_result"
    }
   ],
   "source": [
    "clf.predict_proba(X_test)"
   ]
  },
  {
   "cell_type": "code",
   "execution_count": 15,
   "metadata": {},
   "outputs": [
    {
     "data": {
      "text/plain": [
       "array([[-1.16474358, -1.17464299, -0.97003942],\n",
       "       [-1.27567812, -1.25813855, -0.82879297],\n",
       "       [-1.15751448, -1.17001908, -0.979836  ],\n",
       "       [-1.27802327, -1.25889836, -0.82680231],\n",
       "       [-1.17440145, -1.18090064, -0.95712834],\n",
       "       [-1.1642022 , -1.17430077, -0.97076436],\n",
       "       [-1.16475016, -1.17465897, -0.97002098],\n",
       "       [-1.15701616, -1.16970248, -0.98051534],\n",
       "       [-1.36561048, -1.32190889, -0.7378322 ],\n",
       "       [-1.1569885 , -1.16968833, -0.98055024],\n",
       "       [-1.25847246, -1.2459342 , -0.84807076],\n",
       "       [-1.27821377, -1.25895648, -0.82664329],\n",
       "       [-1.23115346, -1.21659971, -0.88719652],\n",
       "       [-1.15644309, -1.1693451 , -0.98129196],\n",
       "       [-1.25174135, -1.22919677, -0.86401564],\n",
       "       [-1.15773623, -1.17016088, -0.97953318],\n",
       "       [-1.15715651, -1.16979323, -0.98032263],\n",
       "       [-1.15634299, -1.16928341, -0.98142711],\n",
       "       [-1.16335279, -1.17376114, -0.97190568],\n",
       "       [-1.16399451, -1.17416487, -0.97104645],\n",
       "       [-1.16349423, -1.1738219 , -0.97173926],\n",
       "       [-1.2953084 , -1.27187264, -0.80770458],\n",
       "       [-1.23477401, -1.21871757, -0.88312078],\n",
       "       [-1.15726262, -1.16985816, -0.98018001],\n",
       "       [-1.16221497, -1.17302516, -0.97344866],\n",
       "       [-1.15635361, -1.16929001, -0.98141272],\n",
       "       [-1.19623061, -1.19420886, -0.92956647],\n",
       "       [-1.28913031, -1.26795352, -0.81399865],\n",
       "       [-1.15645998, -1.16935632, -0.98126849],\n",
       "       [-1.23258079, -1.22030893, -0.88352877]])"
      ]
     },
     "execution_count": 15,
     "metadata": {},
     "output_type": "execute_result"
    }
   ],
   "source": [
    "clf.predict_log_proba(X_test)"
   ]
  },
  {
   "cell_type": "code",
   "execution_count": null,
   "metadata": {},
   "outputs": [],
   "source": []
  }
 ],
 "metadata": {
  "kernelspec": {
   "display_name": "Python 3 (ipykernel)",
   "language": "python",
   "name": "python3"
  },
  "language_info": {
   "codemirror_mode": {
    "name": "ipython",
    "version": 3
   },
   "file_extension": ".py",
   "mimetype": "text/x-python",
   "name": "python",
   "nbconvert_exporter": "python",
   "pygments_lexer": "ipython3",
   "version": "3.9.13"
  }
 },
 "nbformat": 4,
 "nbformat_minor": 2
}
