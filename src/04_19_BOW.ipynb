{
 "cells": [
  {
   "cell_type": "markdown",
   "metadata": {},
   "source": [
    "# 使用BOW猜測文章大意"
   ]
  },
  {
   "cell_type": "markdown",
   "metadata": {},
   "source": [
    "## 載入相關套件"
   ]
  },
  {
   "cell_type": "code",
   "execution_count": 1,
   "metadata": {},
   "outputs": [],
   "source": [
    "import numpy as np\n",
    "from sklearn.feature_extraction.text import CountVectorizer"
   ]
  },
  {
   "cell_type": "markdown",
   "metadata": {},
   "source": [
    "## 載入資料"
   ]
  },
  {
   "cell_type": "code",
   "execution_count": 2,
   "metadata": {
    "scrolled": true
   },
   "outputs": [
    {
     "data": {
      "text/plain": [
       "'Last summer, I came across the Bodega Project: a series of articles from Electric Literature profiling convenience stores across New York City. This intimate and colourful portrayal of the city’s inhabitants correctly recognises convenience stores as pillars of urban life. The project’s premise immediately resonated with me because of my experience living in South Korea. Convenience stores don’t have as long of a tradition there as they do in New York (one reason is that Korean cities modernised much later than in the US). Nonetheless, they’re an equally important part of life in the city. I also realised that the absence of (good) convenience stores is why, upon my return, Europe’s cities suddenly seemed so dull by comparison.\\nIn Europe, we don’t really do convenience stores — or at least, we don’t do them right. Even in large cities, once the stores and supermarkets close — which is typically absurdly early in many European countries — gas stations are often the only option for those looking to do some late-night shopping. Poorly stocked, gratuitously overpriced, and hard to find within the metropolitan area, these are a disappointment more often than not.\\nIn my view, the closest you can get to a genuine convenience store experience on the Old Continent is probably Berlin’s so-called ‘spätis’ — an abbreviation of ‘spätkauf’. These are popular and successful thanks to the city’s 24/7 party-hard culture and can be easily found throughout its central neighbourhoods. Yet even in ultra-liberal Berlin, spätis remain bound by arcane rules that would seem truly bizarre to most urbanites. For example, on Sundays, they are only legally allowed to sell tourist products or goods meant for “immediate consumption”. The sale of things like alcohol and ‘prepared foods’ including frozen pizza and pasta sauces are expressly prohibited. So, while spätis are definitely a step up on gas stations concerning variety and price, they remain far inferior to their South Korean counterparts in nearly every conceivable way.\\n\\nA typical Berlin späti. Image courtesy of Martijn van Exel. (CC-BY-SA 2.0)\\nBy contrast, convenience stores saturate the urban landscape in South Korea: chains like Mini Stop, 7/11, GS25 and Family Mart are ubiquitous. The vibrant glow of their neon signs lights up every street, avenue and alleyway of Korea’s cities. In Seoul, most of the large apartment buildings have one of these stores at ground or basement level. With most of life’s necessities just a short elevator ride away, residents can go days or even weeks without leaving the building — and I am convinced that some of them do. If your building lacks an integrated convenience store, it’s rare to have to walk more than five minutes in search of one. In some of Seoul’s busier neighbourhoods (such as Itaewon or Hongdae) these stores are sometimes clustered together so tightly that it seems almost comical. It’s not uncommon to find two stores from the same chain staring each other down from across the street.\\nThis abundance is only partially explained by the incredible population density of Korea’s urban centres. More to the point is the high price of living in these cities. Average apartments are tiny by European or US standards. They usually consist of just one room with an integrated kitchenette and a bathroom. For example, within Tokyo’s 23 wards, each person has an average living space of 11.6 tatami mats or 19.1 square metres. While I couldn’t find similar statistics for Seoul, I doubt they would vary significantly. (By comparison, the average New Yorker lives on just over 49 square metres.) Such cramped quarters don’t offer much room for storing and cooking food let alone for having guests over. People, therefore, tend to spend a lot of time outside of their apartments — especially when they meet in larger groups. As a result, the local economy has learned to cater to this. It’s one of the reasons why Tokyo has over 100,000 registered restaurants. And with over 80,000, Seoul doesn’t lag far behind (especially as its population is only half the size of Tokyo’s). It also explains why bodegas are as popular as they are: people just need the round-the-clock access to drinks and food because they don’t have much storage space at home.\\nAnother factor central to understanding the proliferation of convenience stores is the climate. The Korean summer can be oppressive. Temperatures frequently reach above 35 C with humidity climbing to 90 percent. Going outside during the daytime typically means scurrying from one air-conditioned place to another with an iced coffee in one hand and a portable fan in the other. For this reason, those with flexible working hours or who have some other means of sustaining themselves prefer to stay in as long as they can while the sun is out; they only venture outside once dusk hits and the temperatures become slightly more agreeable. Some have even learned to live this way all year round.\\nThis is why, at least during the summer, Seoul only comes alive at night. And this is also why this city also stands out for me compared to the many others I’ve been to: I know of no other place in the world where day or night has so little impact on the range of available activities. I’m not referring just to nightlife or gastronomy; this applies in equal measure to mundane tasks like going to the dry cleaners or buying a t-shirt. When I hear people repeat that tired old phrase “a city that never sleeps”, I don’t think of New York or Buenos Aires or Istanbul. Seoul is the only city I’ve been to for which this moniker is even remotely apt.\\n\\nA 7–11 convenience store in Seoul. (Photo by the author.)\\nWith my experience limited mainly to Western cities, I was fascinated the first time I experienced summer in Seoul. Restaurants were open and usually brimming well past 2 or 3 AM. I don’t mean your ordinary fast food chains or late night diners but real restaurants serving decent fare including seafood, bibimbap, and Korean barbecue. Enormous night markets such as Dongdaemun, which have hundreds of stalls that sell everything from bootleg designer merchandise to the latest electronics, almost never closed. At most you might notice a slight lull in activity as the day breaks and the shifts change.\\nConvenience stores are indispensable if people are to live like this. It’s thanks to them that you can leisurely wake up at 9 PM and not have to worry about rushing to the supermarket before it closes. Need something to eat? No problem! You can grab a rice ball, a Mr. Kogi (a Korean version of the corn dog) or even some decent sushi. Throw in a beer or an unsweetened canned coffee and dinner is served. The quality of these products is above average — especially compared to what you typically find in the West. Some convenience stores are even famous for their food. For example, the fried chicken at the MiniStop comes highly recommended by locals. In fact, it’s been sold out almost every time I’ve tried to get some. The GS25 chain has its own brand of ramen, which is sold in cooperation with Hong Seok Cheon, a Korean TV personality. It’s available exclusively at their stores and comes in several varieties. Some say it even rivals the venerable Shin Ramyun — one of the world’s most famous ramen brands.\\nMost of the convenience stores in Korea, unlike those portrayed in the Bodega Project, are not owner-operated. They belong to huge international conglomerates. Despite this, they still add character to the community and are valued by locals. This is because they provide a quiet and relaxed atmosphere for people to meet up in. The cheap drinks help too. Indeed, some of my most enduring memories of Korea take place among the plastic chairs and tables outside of the corner convenience store. This is where our nights would usually begin, and this is where they would often end as well.'"
      ]
     },
     "execution_count": 2,
     "metadata": {},
     "output_type": "execute_result"
    }
   ],
   "source": [
    "with open('./data/news.txt','r+', encoding='UTF-8') as f:\n",
    "    text = f.read()\n",
    "text    "
   ]
  },
  {
   "cell_type": "markdown",
   "metadata": {},
   "source": [
    "## BOW 轉換"
   ]
  },
  {
   "cell_type": "code",
   "execution_count": 5,
   "metadata": {},
   "outputs": [
    {
     "data": {
      "text/plain": [
       "array(['000', '100', '11', '19', '23', '24', '35', '49', '80', '90',\n",
       "       'abbreviation', 'about', 'above', 'absence', 'absurdly',\n",
       "       'abundance', 'access', 'across', 'activities', 'activity', 'add',\n",
       "       'agreeable', 'air', 'aires', 'alcohol', 'alive', 'all', 'alleyway',\n",
       "       'allowed', 'almost', 'alone', 'also', 'am', 'among', 'an', 'and',\n",
       "       'another', 'apartment', 'apartments', 'applies', 'apt', 'arcane',\n",
       "       'are', 'area', 'articles', 'as', 'at', 'atmosphere', 'author',\n",
       "       'available', 'avenue', 'average', 'away', 'ball', 'barbecue',\n",
       "       'basement', 'bathroom', 'be', 'because', 'become', 'been', 'beer',\n",
       "       'before', 'begin', 'behind', 'belong', 'berlin', 'bibimbap',\n",
       "       'bizarre', 'bodega', 'bodegas', 'bootleg', 'bound', 'brand',\n",
       "       'brands', 'breaks', 'brimming', 'buenos', 'building', 'buildings',\n",
       "       'busier', 'but', 'buying', 'by', 'called', 'came', 'can', 'canned',\n",
       "       'cater', 'cc', 'central', 'centres', 'chain', 'chains', 'chairs',\n",
       "       'change', 'character', 'cheap', 'cheon', 'chicken', 'cities',\n",
       "       'city', 'cleaners', 'climate', 'climbing', 'clock', 'close',\n",
       "       'closed', 'closes', 'closest', 'clustered', 'coffee', 'colourful',\n",
       "       'comes', 'comical', 'community', 'compared', 'comparison',\n",
       "       'conceivable', 'concerning', 'conditioned', 'conglomerates',\n",
       "       'consist', 'consumption', 'continent', 'contrast', 'convenience',\n",
       "       'convinced', 'cooking', 'cooperation', 'corn', 'corner',\n",
       "       'correctly', 'couldn', 'counterparts', 'countries', 'courtesy',\n",
       "       'cramped', 'culture', 'day', 'days', 'daytime', 'decent',\n",
       "       'definitely', 'density', 'designer', 'despite', 'diners', 'dinner',\n",
       "       'disappointment', 'do', 'doesn', 'dog', 'don', 'dongdaemun',\n",
       "       'doubt', 'down', 'drinks', 'dry', 'dull', 'during', 'dusk', 'each',\n",
       "       'early', 'easily', 'eat', 'economy', 'electric', 'electronics',\n",
       "       'elevator', 'end', 'enduring', 'enormous', 'equal', 'equally',\n",
       "       'especially', 'europe', 'european', 'even', 'every', 'everything',\n",
       "       'example', 'exclusively', 'exel', 'experience', 'experienced',\n",
       "       'explained', 'explains', 'expressly', 'fact', 'factor', 'family',\n",
       "       'famous', 'fan', 'far', 'fare', 'fascinated', 'fast', 'find',\n",
       "       'first', 'five', 'flexible', 'food', 'foods', 'for', 'found',\n",
       "       'frequently', 'fried', 'from', 'frozen', 'gas', 'gastronomy',\n",
       "       'genuine', 'get', 'glow', 'go', 'going', 'good', 'goods', 'grab',\n",
       "       'gratuitously', 'ground', 'groups', 'gs25', 'guests', 'half',\n",
       "       'hand', 'hard', 'has', 'have', 'having', 'hear', 'help', 'high',\n",
       "       'highly', 'hits', 'home', 'hong', 'hongdae', 'hours', 'huge',\n",
       "       'humidity', 'hundreds', 'iced', 'if', 'image', 'immediate',\n",
       "       'immediately', 'impact', 'important', 'in', 'including',\n",
       "       'incredible', 'indeed', 'indispensable', 'inferior', 'inhabitants',\n",
       "       'integrated', 'international', 'intimate', 'is', 'istanbul', 'it',\n",
       "       'itaewon', 'its', 'just', 'kitchenette', 'know', 'kogi', 'korea',\n",
       "       'korean', 'lacks', 'lag', 'landscape', 'large', 'larger', 'last',\n",
       "       'late', 'later', 'latest', 'learned', 'least', 'leaving',\n",
       "       'legally', 'leisurely', 'let', 'level', 'liberal', 'life',\n",
       "       'lights', 'like', 'limited', 'literature', 'little', 'live',\n",
       "       'lives', 'living', 'local', 'locals', 'long', 'looking', 'lot',\n",
       "       'lull', 'mainly', 'many', 'markets', 'mart', 'martijn', 'mats',\n",
       "       'me', 'mean', 'means', 'meant', 'measure', 'meet', 'memories',\n",
       "       'merchandise', 'metres', 'metropolitan', 'might', 'mini',\n",
       "       'ministop', 'minutes', 'modernised', 'moniker', 'more', 'most',\n",
       "       'mr', 'much', 'mundane', 'my', 'nearly', 'necessities', 'need',\n",
       "       'neighbourhoods', 'neon', 'never', 'new', 'night', 'nightlife',\n",
       "       'nights', 'no', 'nonetheless', 'not', 'notice', 'of', 'offer',\n",
       "       'often', 'old', 'on', 'once', 'one', 'only', 'open', 'operated',\n",
       "       'oppressive', 'option', 'or', 'ordinary', 'other', 'others', 'our',\n",
       "       'out', 'outside', 'over', 'overpriced', 'own', 'owner', 'part',\n",
       "       'partially', 'party', 'past', 'pasta', 'people', 'percent',\n",
       "       'person', 'personality', 'photo', 'phrase', 'pillars', 'pizza',\n",
       "       'place', 'plastic', 'pm', 'point', 'poorly', 'popular',\n",
       "       'population', 'portable', 'portrayal', 'portrayed', 'prefer',\n",
       "       'premise', 'prepared', 'price', 'probably', 'problem', 'products',\n",
       "       'profiling', 'prohibited', 'project', 'proliferation', 'provide',\n",
       "       'quality', 'quarters', 'quiet', 'ramen', 'ramyun', 'range', 'rare',\n",
       "       're', 'reach', 'real', 'realised', 'really', 'reason', 'reasons',\n",
       "       'recognises', 'recommended', 'referring', 'registered', 'relaxed',\n",
       "       'remain', 'remotely', 'repeat', 'residents', 'resonated',\n",
       "       'restaurants', 'result', 'return', 'rice', 'ride', 'right',\n",
       "       'rivals', 'room', 'round', 'rules', 'rushing', 'sa', 'sale',\n",
       "       'same', 'saturate', 'sauces', 'say', 'scurrying', 'seafood',\n",
       "       'search', 'seem', 'seemed', 'seems', 'sell', 'seok', 'seoul',\n",
       "       'series', 'served', 'serving', 'several', 'shifts', 'shin',\n",
       "       'shirt', 'shopping', 'short', 'significantly', 'signs', 'similar',\n",
       "       'size', 'sleeps', 'slight', 'slightly', 'so', 'sold', 'some',\n",
       "       'something', 'sometimes', 'south', 'space', 'spend', 'späti',\n",
       "       'spätis', 'spätkauf', 'square', 'stalls', 'standards', 'stands',\n",
       "       'staring', 'stations', 'statistics', 'stay', 'step', 'still',\n",
       "       'stocked', 'stop', 'storage', 'store', 'stores', 'storing',\n",
       "       'street', 'successful', 'such', 'suddenly', 'summer', 'sun',\n",
       "       'sundays', 'supermarket', 'supermarkets', 'sushi', 'sustaining',\n",
       "       'tables', 'take', 'tasks', 'tatami', 'temperatures', 'tend',\n",
       "       'than', 'thanks', 'that', 'the', 'their', 'them', 'themselves',\n",
       "       'there', 'therefore', 'these', 'they', 'things', 'think', 'this',\n",
       "       'those', 'throughout', 'throw', 'tightly', 'time', 'tiny', 'tired',\n",
       "       'to', 'together', 'tokyo', 'too', 'tourist', 'tradition', 'tried',\n",
       "       'truly', 'tv', 'two', 'typical', 'typically', 'ubiquitous',\n",
       "       'ultra', 'uncommon', 'understanding', 'unlike', 'unsweetened',\n",
       "       'up', 'upon', 'urban', 'urbanites', 'us', 'usually', 'valued',\n",
       "       'van', 'varieties', 'variety', 'vary', 've', 'venerable',\n",
       "       'venture', 'version', 'vibrant', 'view', 'wake', 'walk', 'wards',\n",
       "       'was', 'way', 'we', 'weeks', 'well', 'were', 'west', 'western',\n",
       "       'what', 'when', 'where', 'which', 'while', 'who', 'why', 'with',\n",
       "       'within', 'without', 'working', 'world', 'worry', 'would', 'year',\n",
       "       'yet', 'york', 'yorker', 'you', 'your'], dtype=object)"
      ]
     },
     "execution_count": 5,
     "metadata": {},
     "output_type": "execute_result"
    }
   ],
   "source": [
    "# BOW 轉換\n",
    "vectorizer = CountVectorizer()\n",
    "X = vectorizer.fit_transform([text])\n",
    "# 生字表\n",
    "vectorizer.get_feature_names_out()"
   ]
  },
  {
   "cell_type": "markdown",
   "metadata": {},
   "source": [
    "## 單字對應的出現次數"
   ]
  },
  {
   "cell_type": "code",
   "execution_count": 4,
   "metadata": {
    "scrolled": true
   },
   "outputs": [
    {
     "data": {
      "text/plain": [
       "array([[ 2,  1,  3,  1,  1,  1,  1,  1,  1,  1,  1,  1,  2,  1,  1,  1,\n",
       "         1,  3,  1,  1,  1,  1,  1,  1,  1,  1,  1,  1,  1,  3,  1,  4,\n",
       "         2,  1,  7, 28,  2,  1,  2,  1,  1,  1, 16,  1,  1, 13,  9,  1,\n",
       "         1,  2,  1,  4,  1,  1,  1,  1,  1,  2,  3,  1,  3,  1,  1,  1,\n",
       "         1,  1,  3,  1,  1,  2,  1,  1,  1,  1,  1,  1,  1,  1,  2,  1,\n",
       "         1,  1,  1, 10,  1,  1,  7,  1,  1,  1,  2,  1,  2,  2,  1,  1,\n",
       "         1,  1,  1,  1,  6,  7,  1,  1,  1,  1,  1,  1,  1,  1,  1,  2,\n",
       "         1,  3,  1,  1,  2,  2,  1,  1,  1,  1,  1,  1,  1,  1, 14,  1,\n",
       "         1,  1,  1,  1,  1,  1,  1,  1,  1,  1,  1,  2,  1,  1,  2,  1,\n",
       "         1,  1,  1,  1,  1,  1,  5,  1,  1,  7,  1,  1,  1,  2,  1,  1,\n",
       "         2,  1,  2,  1,  1,  1,  1,  1,  1,  1,  1,  1,  1,  1,  1,  3,\n",
       "         2,  2,  8,  3,  1,  3,  1,  1,  3,  1,  1,  1,  1,  1,  1,  1,\n",
       "         2,  1,  2,  1,  1,  1,  4,  1,  1,  1,  4,  1, 13,  1,  1,  1,\n",
       "         5,  1,  2,  1,  1,  2,  1,  1,  2,  1,  1,  1,  1,  1,  1,  2,\n",
       "         1,  1,  1,  2,  5,  8,  1,  1,  1,  1,  1,  1,  1,  1,  1,  1,\n",
       "         1,  1,  1,  1,  2,  1,  1,  1,  1,  1, 32,  2,  1,  1,  1,  1,\n",
       "         1,  2,  1,  1, 19,  1, 10,  1,  3,  5,  1,  1,  1,  6,  6,  1,\n",
       "         1,  1,  2,  1,  1,  2,  1,  1,  2,  2,  1,  1,  1,  1,  1,  1,\n",
       "         3,  1,  4,  1,  1,  1,  2,  1,  3,  1,  2,  2,  1,  1,  1,  1,\n",
       "         2,  1,  1,  1,  1,  2,  1,  2,  1,  1,  2,  1,  1,  2,  1,  1,\n",
       "         1,  1,  1,  1,  1,  4,  7,  1,  3,  1,  5,  1,  1,  2,  2,  1,\n",
       "         2,  4,  5,  1,  1,  2,  1,  5,  1, 40,  1,  3,  2,  5,  2,  8,\n",
       "         7,  1,  1,  1,  1, 17,  1,  4,  1,  1,  3,  4,  4,  1,  1,  1,\n",
       "         1,  1,  1,  1,  1,  5,  1,  1,  1,  1,  1,  1,  1,  3,  1,  1,\n",
       "         1,  1,  2,  2,  1,  1,  1,  1,  1,  1,  2,  1,  1,  2,  1,  1,\n",
       "         3,  1,  1,  1,  1,  1,  2,  1,  1,  1,  1,  1,  1,  1,  1,  2,\n",
       "         1,  1,  1,  1,  1,  1,  2,  1,  1,  1,  1,  3,  1,  1,  1,  1,\n",
       "         1,  1,  2,  2,  1,  1,  1,  1,  1,  1,  1,  1,  1,  1,  1,  1,\n",
       "         1,  1,  2,  1,  8,  1,  1,  1,  1,  1,  1,  1,  1,  1,  1,  1,\n",
       "         1,  1,  1,  1,  1,  5,  2, 10,  1,  1,  3,  2,  1,  1,  3,  1,\n",
       "         2,  1,  1,  1,  1,  2,  1,  1,  1,  1,  1,  1,  1,  4, 15,  1,\n",
       "         2,  1,  3,  1,  4,  1,  1,  1,  1,  1,  1,  1,  1,  1,  1,  2,\n",
       "         1,  3,  2,  9, 61,  5,  3,  1,  1,  1,  6, 15,  1,  1, 15,  3,\n",
       "         1,  1,  1,  3,  1,  1, 38,  1,  3,  1,  1,  1,  1,  1,  1,  1,\n",
       "         1,  3,  1,  1,  1,  1,  1,  1,  4,  1,  3,  1,  2,  3,  1,  1,\n",
       "         1,  1,  1,  3,  1,  1,  1,  1,  1,  1,  1,  1,  1,  2,  2,  1,\n",
       "         2,  1,  1,  1,  1,  2,  3,  4,  3,  1,  5,  9,  2,  1,  1,  2,\n",
       "         1,  4,  1,  1,  3,  1,  5,  2]], dtype=int64)"
      ]
     },
     "execution_count": 4,
     "metadata": {},
     "output_type": "execute_result"
    }
   ],
   "source": [
    "X.toarray()"
   ]
  },
  {
   "cell_type": "markdown",
   "metadata": {},
   "source": [
    "## 找出較常出現的單字"
   ]
  },
  {
   "cell_type": "code",
   "execution_count": 8,
   "metadata": {},
   "outputs": [
    {
     "name": "stdout",
     "output_type": "stream",
     "text": [
      "前20個單字:[('the', 61), ('of', 40), ('to', 38), ('in', 32), ('and', 28), ('is', 19), ('or', 17), ('are', 16), ('stores', 15), ('they', 15), ('this', 15), ('convenience', 14), ('as', 13), ('for', 13), ('by', 10), ('it', 10), ('some', 10), ('at', 9), ('that', 9), ('with', 9)]\n"
     ]
    }
   ],
   "source": [
    "import collections\n",
    "\n",
    "MAX_FEATURES = 20    \n",
    "word_freqs = collections.Counter()\n",
    "for word, freq in zip(vectorizer.get_feature_names_out(), X.toarray()[0]):\n",
    "    word_freqs[word] = freq\n",
    "\n",
    "print(f'前{MAX_FEATURES}名單字:{word_freqs.most_common(MAX_FEATURES)}')    "
   ]
  },
  {
   "cell_type": "markdown",
   "metadata": {},
   "source": [
    "## 考慮停用詞(Stop words)"
   ]
  },
  {
   "cell_type": "code",
   "execution_count": 9,
   "metadata": {},
   "outputs": [
    {
     "name": "stdout",
     "output_type": "stream",
     "text": [
      "前20個單字:[('stores', 15), ('convenience', 14), ('seoul', 8), ('city', 7), ('don', 7), ('cities', 6), ('korea', 6), ('korean', 6), ('just', 5), ('night', 5), ('people', 5), ('average', 4), ('food', 4), ('like', 4), ('new', 4), ('outside', 4), ('store', 4), ('summer', 4), ('11', 3), ('berlin', 3)]\n"
     ]
    }
   ],
   "source": [
    "MAX_FEATURES = 20    \n",
    "\n",
    "# 轉換為 BOW\n",
    "vectorizer = CountVectorizer(stop_words='english')\n",
    "X = vectorizer.fit_transform([text])\n",
    "\n",
    "# 找出較常出現的單字\n",
    "word_freqs = collections.Counter()\n",
    "for word, freq in zip(vectorizer.get_feature_names_out(), X.toarray()[0]):\n",
    "    word_freqs[word] = freq\n",
    "\n",
    "print(f'前{MAX_FEATURES}名單字:{word_freqs.most_common(MAX_FEATURES)}')    "
   ]
  },
  {
   "cell_type": "markdown",
   "metadata": {},
   "source": [
    "## 詞形還原(Lemmatization)"
   ]
  },
  {
   "cell_type": "code",
   "execution_count": 12,
   "metadata": {},
   "outputs": [
    {
     "name": "stdout",
     "output_type": "stream",
     "text": [
      "前20個單字:[('store', 19), ('convenience', 14), ('korea', 12), ('seoul', 8), ('city', 7), ('don', 7), ('cities', 6), ('just', 5), ('night', 5), ('people', 5), ('average', 4), ('food', 4), ('like', 4), ('new', 4), ('outside', 4), ('summer', 4), ('11', 3), ('berlin', 3), ('comes', 3), ('especially', 3)]\n"
     ]
    }
   ],
   "source": [
    "text = text.lower().replace('korean', 'korea').replace('stores', 'store')\n",
    "\n",
    "MAX_FEATURES = 20  \n",
    "\n",
    "# 轉換為 BOW\n",
    "vectorizer = CountVectorizer(stop_words='english')\n",
    "X = vectorizer.fit_transform([text])\n",
    "\n",
    "# 找出較常出現的單字\n",
    "word_freqs = collections.Counter()\n",
    "for word, freq in zip(vectorizer.get_feature_names_out(), X.toarray()[0]):\n",
    "    word_freqs[word] = freq\n",
    "\n",
    "print(f'前{MAX_FEATURES}名單字:{word_freqs.most_common(MAX_FEATURES)}') "
   ]
  },
  {
   "cell_type": "code",
   "execution_count": null,
   "metadata": {},
   "outputs": [],
   "source": []
  }
 ],
 "metadata": {
  "kernelspec": {
   "display_name": "Python 3 (ipykernel)",
   "language": "python",
   "name": "python3"
  },
  "language_info": {
   "codemirror_mode": {
    "name": "ipython",
    "version": 3
   },
   "file_extension": ".py",
   "mimetype": "text/x-python",
   "name": "python",
   "nbconvert_exporter": "python",
   "pygments_lexer": "ipython3",
   "version": "3.9.13"
  }
 },
 "nbformat": 4,
 "nbformat_minor": 2
}
