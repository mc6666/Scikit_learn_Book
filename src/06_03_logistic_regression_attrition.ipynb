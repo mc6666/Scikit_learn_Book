{
 "cells": [
  {
   "cell_type": "markdown",
   "metadata": {},
   "source": [
    "# 員工流失預測"
   ]
  },
  {
   "cell_type": "markdown",
   "metadata": {},
   "source": [
    "## 1. 載入相關套件"
   ]
  },
  {
   "cell_type": "code",
   "execution_count": 24,
   "metadata": {},
   "outputs": [],
   "source": [
    "from sklearn import datasets, preprocessing\n",
    "from sklearn.model_selection import train_test_split\n",
    "from sklearn.metrics import accuracy_score\n",
    "import pandas as pd"
   ]
  },
  {
   "cell_type": "markdown",
   "metadata": {},
   "source": [
    "## 載入資料集"
   ]
  },
  {
   "cell_type": "code",
   "execution_count": 25,
   "metadata": {},
   "outputs": [
    {
     "data": {
      "text/html": [
       "<div>\n",
       "<style scoped>\n",
       "    .dataframe tbody tr th:only-of-type {\n",
       "        vertical-align: middle;\n",
       "    }\n",
       "\n",
       "    .dataframe tbody tr th {\n",
       "        vertical-align: top;\n",
       "    }\n",
       "\n",
       "    .dataframe thead th {\n",
       "        text-align: right;\n",
       "    }\n",
       "</style>\n",
       "<table border=\"1\" class=\"dataframe\">\n",
       "  <thead>\n",
       "    <tr style=\"text-align: right;\">\n",
       "      <th></th>\n",
       "      <th>Age</th>\n",
       "      <th>Attrition</th>\n",
       "      <th>BusinessTravel</th>\n",
       "      <th>DailyRate</th>\n",
       "      <th>Department</th>\n",
       "      <th>DistanceFromHome</th>\n",
       "      <th>Education</th>\n",
       "      <th>EducationField</th>\n",
       "      <th>EmployeeCount</th>\n",
       "      <th>EmployeeNumber</th>\n",
       "      <th>...</th>\n",
       "      <th>RelationshipSatisfaction</th>\n",
       "      <th>StandardHours</th>\n",
       "      <th>StockOptionLevel</th>\n",
       "      <th>TotalWorkingYears</th>\n",
       "      <th>TrainingTimesLastYear</th>\n",
       "      <th>WorkLifeBalance</th>\n",
       "      <th>YearsAtCompany</th>\n",
       "      <th>YearsInCurrentRole</th>\n",
       "      <th>YearsSinceLastPromotion</th>\n",
       "      <th>YearsWithCurrManager</th>\n",
       "    </tr>\n",
       "  </thead>\n",
       "  <tbody>\n",
       "    <tr>\n",
       "      <th>0</th>\n",
       "      <td>41</td>\n",
       "      <td>Yes</td>\n",
       "      <td>Travel_Rarely</td>\n",
       "      <td>1102</td>\n",
       "      <td>Sales</td>\n",
       "      <td>1</td>\n",
       "      <td>2</td>\n",
       "      <td>Life Sciences</td>\n",
       "      <td>1</td>\n",
       "      <td>1</td>\n",
       "      <td>...</td>\n",
       "      <td>1</td>\n",
       "      <td>80</td>\n",
       "      <td>0</td>\n",
       "      <td>8</td>\n",
       "      <td>0</td>\n",
       "      <td>1</td>\n",
       "      <td>6</td>\n",
       "      <td>4</td>\n",
       "      <td>0</td>\n",
       "      <td>5</td>\n",
       "    </tr>\n",
       "    <tr>\n",
       "      <th>1</th>\n",
       "      <td>49</td>\n",
       "      <td>No</td>\n",
       "      <td>Travel_Frequently</td>\n",
       "      <td>279</td>\n",
       "      <td>Research &amp; Development</td>\n",
       "      <td>8</td>\n",
       "      <td>1</td>\n",
       "      <td>Life Sciences</td>\n",
       "      <td>1</td>\n",
       "      <td>2</td>\n",
       "      <td>...</td>\n",
       "      <td>4</td>\n",
       "      <td>80</td>\n",
       "      <td>1</td>\n",
       "      <td>10</td>\n",
       "      <td>3</td>\n",
       "      <td>3</td>\n",
       "      <td>10</td>\n",
       "      <td>7</td>\n",
       "      <td>1</td>\n",
       "      <td>7</td>\n",
       "    </tr>\n",
       "    <tr>\n",
       "      <th>2</th>\n",
       "      <td>37</td>\n",
       "      <td>Yes</td>\n",
       "      <td>Travel_Rarely</td>\n",
       "      <td>1373</td>\n",
       "      <td>Research &amp; Development</td>\n",
       "      <td>2</td>\n",
       "      <td>2</td>\n",
       "      <td>Other</td>\n",
       "      <td>1</td>\n",
       "      <td>4</td>\n",
       "      <td>...</td>\n",
       "      <td>2</td>\n",
       "      <td>80</td>\n",
       "      <td>0</td>\n",
       "      <td>7</td>\n",
       "      <td>3</td>\n",
       "      <td>3</td>\n",
       "      <td>0</td>\n",
       "      <td>0</td>\n",
       "      <td>0</td>\n",
       "      <td>0</td>\n",
       "    </tr>\n",
       "    <tr>\n",
       "      <th>3</th>\n",
       "      <td>33</td>\n",
       "      <td>No</td>\n",
       "      <td>Travel_Frequently</td>\n",
       "      <td>1392</td>\n",
       "      <td>Research &amp; Development</td>\n",
       "      <td>3</td>\n",
       "      <td>4</td>\n",
       "      <td>Life Sciences</td>\n",
       "      <td>1</td>\n",
       "      <td>5</td>\n",
       "      <td>...</td>\n",
       "      <td>3</td>\n",
       "      <td>80</td>\n",
       "      <td>0</td>\n",
       "      <td>8</td>\n",
       "      <td>3</td>\n",
       "      <td>3</td>\n",
       "      <td>8</td>\n",
       "      <td>7</td>\n",
       "      <td>3</td>\n",
       "      <td>0</td>\n",
       "    </tr>\n",
       "    <tr>\n",
       "      <th>4</th>\n",
       "      <td>27</td>\n",
       "      <td>No</td>\n",
       "      <td>Travel_Rarely</td>\n",
       "      <td>591</td>\n",
       "      <td>Research &amp; Development</td>\n",
       "      <td>2</td>\n",
       "      <td>1</td>\n",
       "      <td>Medical</td>\n",
       "      <td>1</td>\n",
       "      <td>7</td>\n",
       "      <td>...</td>\n",
       "      <td>4</td>\n",
       "      <td>80</td>\n",
       "      <td>1</td>\n",
       "      <td>6</td>\n",
       "      <td>3</td>\n",
       "      <td>3</td>\n",
       "      <td>2</td>\n",
       "      <td>2</td>\n",
       "      <td>2</td>\n",
       "      <td>2</td>\n",
       "    </tr>\n",
       "  </tbody>\n",
       "</table>\n",
       "<p>5 rows × 35 columns</p>\n",
       "</div>"
      ],
      "text/plain": [
       "   Age Attrition     BusinessTravel  DailyRate              Department  \\\n",
       "0   41       Yes      Travel_Rarely       1102                   Sales   \n",
       "1   49        No  Travel_Frequently        279  Research & Development   \n",
       "2   37       Yes      Travel_Rarely       1373  Research & Development   \n",
       "3   33        No  Travel_Frequently       1392  Research & Development   \n",
       "4   27        No      Travel_Rarely        591  Research & Development   \n",
       "\n",
       "   DistanceFromHome  Education EducationField  EmployeeCount  EmployeeNumber  \\\n",
       "0                 1          2  Life Sciences              1               1   \n",
       "1                 8          1  Life Sciences              1               2   \n",
       "2                 2          2          Other              1               4   \n",
       "3                 3          4  Life Sciences              1               5   \n",
       "4                 2          1        Medical              1               7   \n",
       "\n",
       "   ...  RelationshipSatisfaction StandardHours  StockOptionLevel  \\\n",
       "0  ...                         1            80                 0   \n",
       "1  ...                         4            80                 1   \n",
       "2  ...                         2            80                 0   \n",
       "3  ...                         3            80                 0   \n",
       "4  ...                         4            80                 1   \n",
       "\n",
       "   TotalWorkingYears  TrainingTimesLastYear WorkLifeBalance  YearsAtCompany  \\\n",
       "0                  8                      0               1               6   \n",
       "1                 10                      3               3              10   \n",
       "2                  7                      3               3               0   \n",
       "3                  8                      3               3               8   \n",
       "4                  6                      3               3               2   \n",
       "\n",
       "  YearsInCurrentRole  YearsSinceLastPromotion  YearsWithCurrManager  \n",
       "0                  4                        0                     5  \n",
       "1                  7                        1                     7  \n",
       "2                  0                        0                     0  \n",
       "3                  7                        3                     0  \n",
       "4                  2                        2                     2  \n",
       "\n",
       "[5 rows x 35 columns]"
      ]
     },
     "execution_count": 25,
     "metadata": {},
     "output_type": "execute_result"
    }
   ],
   "source": [
    "df =pd.read_csv('./data/WA_Fn-UseC_-HR-Employee-Attrition.csv')\n",
    "df.head()"
   ]
  },
  {
   "cell_type": "markdown",
   "metadata": {},
   "source": [
    "## 2. 資料清理、資料探索與分析"
   ]
  },
  {
   "cell_type": "code",
   "execution_count": 26,
   "metadata": {},
   "outputs": [
    {
     "data": {
      "text/plain": [
       "Age                         0\n",
       "Attrition                   0\n",
       "BusinessTravel              0\n",
       "DailyRate                   0\n",
       "Department                  0\n",
       "DistanceFromHome            0\n",
       "Education                   0\n",
       "EducationField              0\n",
       "EmployeeCount               0\n",
       "EmployeeNumber              0\n",
       "EnvironmentSatisfaction     0\n",
       "Gender                      0\n",
       "HourlyRate                  0\n",
       "JobInvolvement              0\n",
       "JobLevel                    0\n",
       "JobRole                     0\n",
       "JobSatisfaction             0\n",
       "MaritalStatus               0\n",
       "MonthlyIncome               0\n",
       "MonthlyRate                 0\n",
       "NumCompaniesWorked          0\n",
       "Over18                      0\n",
       "OverTime                    0\n",
       "PercentSalaryHike           0\n",
       "PerformanceRating           0\n",
       "RelationshipSatisfaction    0\n",
       "StandardHours               0\n",
       "StockOptionLevel            0\n",
       "TotalWorkingYears           0\n",
       "TrainingTimesLastYear       0\n",
       "WorkLifeBalance             0\n",
       "YearsAtCompany              0\n",
       "YearsInCurrentRole          0\n",
       "YearsSinceLastPromotion     0\n",
       "YearsWithCurrManager        0\n",
       "dtype: int64"
      ]
     },
     "execution_count": 26,
     "metadata": {},
     "output_type": "execute_result"
    }
   ],
   "source": [
    "df.isna().sum()"
   ]
  },
  {
   "cell_type": "code",
   "execution_count": 27,
   "metadata": {
    "scrolled": false
   },
   "outputs": [
    {
     "name": "stdout",
     "output_type": "stream",
     "text": [
      "<class 'pandas.core.frame.DataFrame'>\n",
      "RangeIndex: 1470 entries, 0 to 1469\n",
      "Data columns (total 35 columns):\n",
      " #   Column                    Non-Null Count  Dtype \n",
      "---  ------                    --------------  ----- \n",
      " 0   Age                       1470 non-null   int64 \n",
      " 1   Attrition                 1470 non-null   object\n",
      " 2   BusinessTravel            1470 non-null   object\n",
      " 3   DailyRate                 1470 non-null   int64 \n",
      " 4   Department                1470 non-null   object\n",
      " 5   DistanceFromHome          1470 non-null   int64 \n",
      " 6   Education                 1470 non-null   int64 \n",
      " 7   EducationField            1470 non-null   object\n",
      " 8   EmployeeCount             1470 non-null   int64 \n",
      " 9   EmployeeNumber            1470 non-null   int64 \n",
      " 10  EnvironmentSatisfaction   1470 non-null   int64 \n",
      " 11  Gender                    1470 non-null   object\n",
      " 12  HourlyRate                1470 non-null   int64 \n",
      " 13  JobInvolvement            1470 non-null   int64 \n",
      " 14  JobLevel                  1470 non-null   int64 \n",
      " 15  JobRole                   1470 non-null   object\n",
      " 16  JobSatisfaction           1470 non-null   int64 \n",
      " 17  MaritalStatus             1470 non-null   object\n",
      " 18  MonthlyIncome             1470 non-null   int64 \n",
      " 19  MonthlyRate               1470 non-null   int64 \n",
      " 20  NumCompaniesWorked        1470 non-null   int64 \n",
      " 21  Over18                    1470 non-null   object\n",
      " 22  OverTime                  1470 non-null   object\n",
      " 23  PercentSalaryHike         1470 non-null   int64 \n",
      " 24  PerformanceRating         1470 non-null   int64 \n",
      " 25  RelationshipSatisfaction  1470 non-null   int64 \n",
      " 26  StandardHours             1470 non-null   int64 \n",
      " 27  StockOptionLevel          1470 non-null   int64 \n",
      " 28  TotalWorkingYears         1470 non-null   int64 \n",
      " 29  TrainingTimesLastYear     1470 non-null   int64 \n",
      " 30  WorkLifeBalance           1470 non-null   int64 \n",
      " 31  YearsAtCompany            1470 non-null   int64 \n",
      " 32  YearsInCurrentRole        1470 non-null   int64 \n",
      " 33  YearsSinceLastPromotion   1470 non-null   int64 \n",
      " 34  YearsWithCurrManager      1470 non-null   int64 \n",
      "dtypes: int64(26), object(9)\n",
      "memory usage: 402.1+ KB\n"
     ]
    }
   ],
   "source": [
    "# 觀察資料集彙總資訊\n",
    "df.info()"
   ]
  },
  {
   "cell_type": "code",
   "execution_count": 28,
   "metadata": {
    "scrolled": false
   },
   "outputs": [
    {
     "data": {
      "text/html": [
       "<div>\n",
       "<style scoped>\n",
       "    .dataframe tbody tr th:only-of-type {\n",
       "        vertical-align: middle;\n",
       "    }\n",
       "\n",
       "    .dataframe tbody tr th {\n",
       "        vertical-align: top;\n",
       "    }\n",
       "\n",
       "    .dataframe thead th {\n",
       "        text-align: right;\n",
       "    }\n",
       "</style>\n",
       "<table border=\"1\" class=\"dataframe\">\n",
       "  <thead>\n",
       "    <tr style=\"text-align: right;\">\n",
       "      <th></th>\n",
       "      <th>Age</th>\n",
       "      <th>DailyRate</th>\n",
       "      <th>DistanceFromHome</th>\n",
       "      <th>Education</th>\n",
       "      <th>EmployeeCount</th>\n",
       "      <th>EmployeeNumber</th>\n",
       "      <th>EnvironmentSatisfaction</th>\n",
       "      <th>HourlyRate</th>\n",
       "      <th>JobInvolvement</th>\n",
       "      <th>JobLevel</th>\n",
       "      <th>...</th>\n",
       "      <th>RelationshipSatisfaction</th>\n",
       "      <th>StandardHours</th>\n",
       "      <th>StockOptionLevel</th>\n",
       "      <th>TotalWorkingYears</th>\n",
       "      <th>TrainingTimesLastYear</th>\n",
       "      <th>WorkLifeBalance</th>\n",
       "      <th>YearsAtCompany</th>\n",
       "      <th>YearsInCurrentRole</th>\n",
       "      <th>YearsSinceLastPromotion</th>\n",
       "      <th>YearsWithCurrManager</th>\n",
       "    </tr>\n",
       "  </thead>\n",
       "  <tbody>\n",
       "    <tr>\n",
       "      <th>count</th>\n",
       "      <td>1470.000000</td>\n",
       "      <td>1470.000000</td>\n",
       "      <td>1470.000000</td>\n",
       "      <td>1470.000000</td>\n",
       "      <td>1470.0</td>\n",
       "      <td>1470.000000</td>\n",
       "      <td>1470.000000</td>\n",
       "      <td>1470.000000</td>\n",
       "      <td>1470.000000</td>\n",
       "      <td>1470.000000</td>\n",
       "      <td>...</td>\n",
       "      <td>1470.000000</td>\n",
       "      <td>1470.0</td>\n",
       "      <td>1470.000000</td>\n",
       "      <td>1470.000000</td>\n",
       "      <td>1470.000000</td>\n",
       "      <td>1470.000000</td>\n",
       "      <td>1470.000000</td>\n",
       "      <td>1470.000000</td>\n",
       "      <td>1470.000000</td>\n",
       "      <td>1470.000000</td>\n",
       "    </tr>\n",
       "    <tr>\n",
       "      <th>mean</th>\n",
       "      <td>36.923810</td>\n",
       "      <td>802.485714</td>\n",
       "      <td>9.192517</td>\n",
       "      <td>2.912925</td>\n",
       "      <td>1.0</td>\n",
       "      <td>1024.865306</td>\n",
       "      <td>2.721769</td>\n",
       "      <td>65.891156</td>\n",
       "      <td>2.729932</td>\n",
       "      <td>2.063946</td>\n",
       "      <td>...</td>\n",
       "      <td>2.712245</td>\n",
       "      <td>80.0</td>\n",
       "      <td>0.793878</td>\n",
       "      <td>11.279592</td>\n",
       "      <td>2.799320</td>\n",
       "      <td>2.761224</td>\n",
       "      <td>7.008163</td>\n",
       "      <td>4.229252</td>\n",
       "      <td>2.187755</td>\n",
       "      <td>4.123129</td>\n",
       "    </tr>\n",
       "    <tr>\n",
       "      <th>std</th>\n",
       "      <td>9.135373</td>\n",
       "      <td>403.509100</td>\n",
       "      <td>8.106864</td>\n",
       "      <td>1.024165</td>\n",
       "      <td>0.0</td>\n",
       "      <td>602.024335</td>\n",
       "      <td>1.093082</td>\n",
       "      <td>20.329428</td>\n",
       "      <td>0.711561</td>\n",
       "      <td>1.106940</td>\n",
       "      <td>...</td>\n",
       "      <td>1.081209</td>\n",
       "      <td>0.0</td>\n",
       "      <td>0.852077</td>\n",
       "      <td>7.780782</td>\n",
       "      <td>1.289271</td>\n",
       "      <td>0.706476</td>\n",
       "      <td>6.126525</td>\n",
       "      <td>3.623137</td>\n",
       "      <td>3.222430</td>\n",
       "      <td>3.568136</td>\n",
       "    </tr>\n",
       "    <tr>\n",
       "      <th>min</th>\n",
       "      <td>18.000000</td>\n",
       "      <td>102.000000</td>\n",
       "      <td>1.000000</td>\n",
       "      <td>1.000000</td>\n",
       "      <td>1.0</td>\n",
       "      <td>1.000000</td>\n",
       "      <td>1.000000</td>\n",
       "      <td>30.000000</td>\n",
       "      <td>1.000000</td>\n",
       "      <td>1.000000</td>\n",
       "      <td>...</td>\n",
       "      <td>1.000000</td>\n",
       "      <td>80.0</td>\n",
       "      <td>0.000000</td>\n",
       "      <td>0.000000</td>\n",
       "      <td>0.000000</td>\n",
       "      <td>1.000000</td>\n",
       "      <td>0.000000</td>\n",
       "      <td>0.000000</td>\n",
       "      <td>0.000000</td>\n",
       "      <td>0.000000</td>\n",
       "    </tr>\n",
       "    <tr>\n",
       "      <th>25%</th>\n",
       "      <td>30.000000</td>\n",
       "      <td>465.000000</td>\n",
       "      <td>2.000000</td>\n",
       "      <td>2.000000</td>\n",
       "      <td>1.0</td>\n",
       "      <td>491.250000</td>\n",
       "      <td>2.000000</td>\n",
       "      <td>48.000000</td>\n",
       "      <td>2.000000</td>\n",
       "      <td>1.000000</td>\n",
       "      <td>...</td>\n",
       "      <td>2.000000</td>\n",
       "      <td>80.0</td>\n",
       "      <td>0.000000</td>\n",
       "      <td>6.000000</td>\n",
       "      <td>2.000000</td>\n",
       "      <td>2.000000</td>\n",
       "      <td>3.000000</td>\n",
       "      <td>2.000000</td>\n",
       "      <td>0.000000</td>\n",
       "      <td>2.000000</td>\n",
       "    </tr>\n",
       "    <tr>\n",
       "      <th>50%</th>\n",
       "      <td>36.000000</td>\n",
       "      <td>802.000000</td>\n",
       "      <td>7.000000</td>\n",
       "      <td>3.000000</td>\n",
       "      <td>1.0</td>\n",
       "      <td>1020.500000</td>\n",
       "      <td>3.000000</td>\n",
       "      <td>66.000000</td>\n",
       "      <td>3.000000</td>\n",
       "      <td>2.000000</td>\n",
       "      <td>...</td>\n",
       "      <td>3.000000</td>\n",
       "      <td>80.0</td>\n",
       "      <td>1.000000</td>\n",
       "      <td>10.000000</td>\n",
       "      <td>3.000000</td>\n",
       "      <td>3.000000</td>\n",
       "      <td>5.000000</td>\n",
       "      <td>3.000000</td>\n",
       "      <td>1.000000</td>\n",
       "      <td>3.000000</td>\n",
       "    </tr>\n",
       "    <tr>\n",
       "      <th>75%</th>\n",
       "      <td>43.000000</td>\n",
       "      <td>1157.000000</td>\n",
       "      <td>14.000000</td>\n",
       "      <td>4.000000</td>\n",
       "      <td>1.0</td>\n",
       "      <td>1555.750000</td>\n",
       "      <td>4.000000</td>\n",
       "      <td>83.750000</td>\n",
       "      <td>3.000000</td>\n",
       "      <td>3.000000</td>\n",
       "      <td>...</td>\n",
       "      <td>4.000000</td>\n",
       "      <td>80.0</td>\n",
       "      <td>1.000000</td>\n",
       "      <td>15.000000</td>\n",
       "      <td>3.000000</td>\n",
       "      <td>3.000000</td>\n",
       "      <td>9.000000</td>\n",
       "      <td>7.000000</td>\n",
       "      <td>3.000000</td>\n",
       "      <td>7.000000</td>\n",
       "    </tr>\n",
       "    <tr>\n",
       "      <th>max</th>\n",
       "      <td>60.000000</td>\n",
       "      <td>1499.000000</td>\n",
       "      <td>29.000000</td>\n",
       "      <td>5.000000</td>\n",
       "      <td>1.0</td>\n",
       "      <td>2068.000000</td>\n",
       "      <td>4.000000</td>\n",
       "      <td>100.000000</td>\n",
       "      <td>4.000000</td>\n",
       "      <td>5.000000</td>\n",
       "      <td>...</td>\n",
       "      <td>4.000000</td>\n",
       "      <td>80.0</td>\n",
       "      <td>3.000000</td>\n",
       "      <td>40.000000</td>\n",
       "      <td>6.000000</td>\n",
       "      <td>4.000000</td>\n",
       "      <td>40.000000</td>\n",
       "      <td>18.000000</td>\n",
       "      <td>15.000000</td>\n",
       "      <td>17.000000</td>\n",
       "    </tr>\n",
       "  </tbody>\n",
       "</table>\n",
       "<p>8 rows × 26 columns</p>\n",
       "</div>"
      ],
      "text/plain": [
       "               Age    DailyRate  DistanceFromHome    Education  EmployeeCount  \\\n",
       "count  1470.000000  1470.000000       1470.000000  1470.000000         1470.0   \n",
       "mean     36.923810   802.485714          9.192517     2.912925            1.0   \n",
       "std       9.135373   403.509100          8.106864     1.024165            0.0   \n",
       "min      18.000000   102.000000          1.000000     1.000000            1.0   \n",
       "25%      30.000000   465.000000          2.000000     2.000000            1.0   \n",
       "50%      36.000000   802.000000          7.000000     3.000000            1.0   \n",
       "75%      43.000000  1157.000000         14.000000     4.000000            1.0   \n",
       "max      60.000000  1499.000000         29.000000     5.000000            1.0   \n",
       "\n",
       "       EmployeeNumber  EnvironmentSatisfaction   HourlyRate  JobInvolvement  \\\n",
       "count     1470.000000              1470.000000  1470.000000     1470.000000   \n",
       "mean      1024.865306                 2.721769    65.891156        2.729932   \n",
       "std        602.024335                 1.093082    20.329428        0.711561   \n",
       "min          1.000000                 1.000000    30.000000        1.000000   \n",
       "25%        491.250000                 2.000000    48.000000        2.000000   \n",
       "50%       1020.500000                 3.000000    66.000000        3.000000   \n",
       "75%       1555.750000                 4.000000    83.750000        3.000000   \n",
       "max       2068.000000                 4.000000   100.000000        4.000000   \n",
       "\n",
       "          JobLevel  ...  RelationshipSatisfaction  StandardHours  \\\n",
       "count  1470.000000  ...               1470.000000         1470.0   \n",
       "mean      2.063946  ...                  2.712245           80.0   \n",
       "std       1.106940  ...                  1.081209            0.0   \n",
       "min       1.000000  ...                  1.000000           80.0   \n",
       "25%       1.000000  ...                  2.000000           80.0   \n",
       "50%       2.000000  ...                  3.000000           80.0   \n",
       "75%       3.000000  ...                  4.000000           80.0   \n",
       "max       5.000000  ...                  4.000000           80.0   \n",
       "\n",
       "       StockOptionLevel  TotalWorkingYears  TrainingTimesLastYear  \\\n",
       "count       1470.000000        1470.000000            1470.000000   \n",
       "mean           0.793878          11.279592               2.799320   \n",
       "std            0.852077           7.780782               1.289271   \n",
       "min            0.000000           0.000000               0.000000   \n",
       "25%            0.000000           6.000000               2.000000   \n",
       "50%            1.000000          10.000000               3.000000   \n",
       "75%            1.000000          15.000000               3.000000   \n",
       "max            3.000000          40.000000               6.000000   \n",
       "\n",
       "       WorkLifeBalance  YearsAtCompany  YearsInCurrentRole  \\\n",
       "count      1470.000000     1470.000000         1470.000000   \n",
       "mean          2.761224        7.008163            4.229252   \n",
       "std           0.706476        6.126525            3.623137   \n",
       "min           1.000000        0.000000            0.000000   \n",
       "25%           2.000000        3.000000            2.000000   \n",
       "50%           3.000000        5.000000            3.000000   \n",
       "75%           3.000000        9.000000            7.000000   \n",
       "max           4.000000       40.000000           18.000000   \n",
       "\n",
       "       YearsSinceLastPromotion  YearsWithCurrManager  \n",
       "count              1470.000000           1470.000000  \n",
       "mean                  2.187755              4.123129  \n",
       "std                   3.222430              3.568136  \n",
       "min                   0.000000              0.000000  \n",
       "25%                   0.000000              2.000000  \n",
       "50%                   1.000000              3.000000  \n",
       "75%                   3.000000              7.000000  \n",
       "max                  15.000000             17.000000  \n",
       "\n",
       "[8 rows x 26 columns]"
      ]
     },
     "execution_count": 28,
     "metadata": {},
     "output_type": "execute_result"
    }
   ],
   "source": [
    "# 描述統計量\n",
    "df.describe()"
   ]
  },
  {
   "cell_type": "markdown",
   "metadata": {},
   "source": [
    "## 繪圖"
   ]
  },
  {
   "cell_type": "code",
   "execution_count": 29,
   "metadata": {
    "scrolled": false
   },
   "outputs": [
    {
     "data": {
      "text/plain": [
       "<AxesSubplot:xlabel='Attrition', ylabel='count'>"
      ]
     },
     "execution_count": 29,
     "metadata": {},
     "output_type": "execute_result"
    },
    {
     "data": {
      "image/png": "[encoded data removed]",
      "text/plain": [
       "<Figure size 432x288 with 1 Axes>"
      ]
     },
     "metadata": {
      "needs_background": "light"
     },
     "output_type": "display_data"
    }
   ],
   "source": [
    "# y 各類別資料筆數統計\n",
    "import seaborn as sns\n",
    "sns.countplot(x=df['Attrition'])"
   ]
  },
  {
   "cell_type": "code",
   "execution_count": 30,
   "metadata": {
    "scrolled": false
   },
   "outputs": [
    {
     "data": {
      "text/plain": [
       "No     1233\n",
       "Yes     237\n",
       "Name: Attrition, dtype: int64"
      ]
     },
     "execution_count": 30,
     "metadata": {},
     "output_type": "execute_result"
    }
   ],
   "source": [
    "# 以Pandas函數統計各類別資料筆數\n",
    "df['Attrition'].value_counts()"
   ]
  },
  {
   "cell_type": "markdown",
   "metadata": {},
   "source": [
    "## 檢查與時間有關的特徵相關性"
   ]
  },
  {
   "cell_type": "code",
   "execution_count": 31,
   "metadata": {},
   "outputs": [
    {
     "data": {
      "text/plain": [
       "<Figure size 576x360 with 0 Axes>"
      ]
     },
     "metadata": {},
     "output_type": "display_data"
    },
    {
     "data": {
      "image/png": "[encoded data removed]",
      "text/plain": [
       "<Figure size 504x360 with 2 Axes>"
      ]
     },
     "metadata": {},
     "output_type": "display_data"
    }
   ],
   "source": [
    "import matplotlib.pyplot as plt\n",
    "import numpy as np\n",
    "\n",
    "# 設定關聯度上限為 0.4\n",
    "max_corr = 0.4\n",
    "time_params=['Age','TotalWorkingYears','YearsAtCompany','YearsInCurrentRole',\n",
    "             'YearsSinceLastPromotion','YearsWithCurrManager']\n",
    "# 計算關聯度\n",
    "corr_df=df[time_params].corr().round(2)\n",
    "\n",
    "# 繪製熱力圖\n",
    "plt.figure(figsize=(8,5))\n",
    "mask = np.zeros_like(corr_df)\n",
    "mask[np.triu_indices_from(mask)] = True\n",
    "with sns.axes_style(\"white\"):\n",
    "    f, ax = plt.subplots(figsize=(7, 5))\n",
    "    ax = sns.heatmap(corr_df, mask=mask,vmax=max_corr, square=True, \n",
    "                     annot=True, cmap=\"YlGnBu\");"
   ]
  },
  {
   "cell_type": "code",
   "execution_count": 32,
   "metadata": {},
   "outputs": [],
   "source": [
    "# 刪除欄位\n",
    "df.drop({'TotalWorkingYears','YearsInCurrentRole','YearsSinceLastPromotion',\n",
    "         'YearsWithCurrManager'}, axis=1, inplace=True)"
   ]
  },
  {
   "cell_type": "markdown",
   "metadata": {},
   "source": [
    "## 檢查與薪資(Salary)有關的特徵相關性"
   ]
  },
  {
   "cell_type": "code",
   "execution_count": 33,
   "metadata": {
    "scrolled": true
   },
   "outputs": [
    {
     "data": {
      "text/plain": [
       "<Figure size 576x360 with 0 Axes>"
      ]
     },
     "metadata": {},
     "output_type": "display_data"
    },
    {
     "data": {
      "image/png": "[encoded data removed]",
      "text/plain": [
       "<Figure size 504x360 with 2 Axes>"
      ]
     },
     "metadata": {},
     "output_type": "display_data"
    }
   ],
   "source": [
    "salary_params=['DailyRate','HourlyRate','MonthlyIncome','MonthlyRate',\n",
    "               'PercentSalaryHike','StockOptionLevel']\n",
    "# 計算關聯度\n",
    "corr_df=df[salary_params].corr().round(2)\n",
    "\n",
    "# 繪製熱力圖\n",
    "plt.figure(figsize=(8,5))\n",
    "mask = np.zeros_like(corr_df)\n",
    "mask[np.triu_indices_from(mask)] = True\n",
    "with sns.axes_style(\"white\"):\n",
    "    f, ax = plt.subplots(figsize=(7, 5))\n",
    "    ax = sns.heatmap(corr_df, mask=mask,vmax=max_corr, square=True, \n",
    "                     annot=True, cmap=\"YlGnBu\");"
   ]
  },
  {
   "cell_type": "markdown",
   "metadata": {},
   "source": [
    "## 找出所有類別變數，並顯示其類別"
   ]
  },
  {
   "cell_type": "code",
   "execution_count": 36,
   "metadata": {},
   "outputs": [
    {
     "name": "stdout",
     "output_type": "stream",
     "text": [
      "Levels of categories: \n",
      "Attrition : ['Yes' 'No']\n",
      "BusinessTravel : ['Travel_Rarely' 'Travel_Frequently' 'Non-Travel']\n",
      "Department : ['Sales' 'Research & Development' 'Human Resources']\n",
      "EducationField : ['Life Sciences' 'Other' 'Medical' 'Marketing' 'Technical Degree'\n",
      " 'Human Resources']\n",
      "Gender : ['Female' 'Male']\n",
      "JobRole : ['Sales Executive' 'Research Scientist' 'Laboratory Technician'\n",
      " 'Manufacturing Director' 'Healthcare Representative' 'Manager'\n",
      " 'Sales Representative' 'Research Director' 'Human Resources']\n",
      "MaritalStatus : ['Single' 'Married' 'Divorced']\n",
      "Over18 : ['Y']\n",
      "OverTime : ['Yes' 'No']\n"
     ]
    }
   ],
   "source": [
    "df.select_dtypes('object').head()\n",
    "print('Levels of categories: ')\n",
    "for key in df.select_dtypes('object').keys():\n",
    "    print(key ,':' ,df[key].unique())"
   ]
  },
  {
   "cell_type": "markdown",
   "metadata": {},
   "source": [
    "## 進行One-hot encoding"
   ]
  },
  {
   "cell_type": "code",
   "execution_count": 41,
   "metadata": {
    "scrolled": true
   },
   "outputs": [
    {
     "data": {
      "text/plain": [
       "Index(['Age', 'DailyRate', 'DistanceFromHome', 'Education', 'EmployeeCount',\n",
       "       'EmployeeNumber', 'EnvironmentSatisfaction', 'HourlyRate',\n",
       "       'JobInvolvement', 'JobLevel', 'JobSatisfaction', 'MonthlyIncome',\n",
       "       'MonthlyRate', 'NumCompaniesWorked', 'PercentSalaryHike',\n",
       "       'PerformanceRating', 'RelationshipSatisfaction', 'StandardHours',\n",
       "       'StockOptionLevel', 'TrainingTimesLastYear', 'WorkLifeBalance',\n",
       "       'YearsAtCompany', 'Attrition_No', 'Attrition_Yes',\n",
       "       'BusinessTravel_Non-Travel', 'BusinessTravel_Travel_Frequently',\n",
       "       'BusinessTravel_Travel_Rarely', 'Department_Human Resources',\n",
       "       'Department_Research & Development', 'Department_Sales',\n",
       "       'EducationField_Human Resources', 'EducationField_Life Sciences',\n",
       "       'EducationField_Marketing', 'EducationField_Medical',\n",
       "       'EducationField_Other', 'EducationField_Technical Degree',\n",
       "       'Gender_Female', 'Gender_Male', 'JobRole_Healthcare Representative',\n",
       "       'JobRole_Human Resources', 'JobRole_Laboratory Technician',\n",
       "       'JobRole_Manager', 'JobRole_Manufacturing Director',\n",
       "       'JobRole_Research Director', 'JobRole_Research Scientist',\n",
       "       'JobRole_Sales Executive', 'JobRole_Sales Representative',\n",
       "       'MaritalStatus_Divorced', 'MaritalStatus_Married',\n",
       "       'MaritalStatus_Single', 'Over18_Y', 'OverTime_No', 'OverTime_Yes'],\n",
       "      dtype='object')"
      ]
     },
     "execution_count": 41,
     "metadata": {},
     "output_type": "execute_result"
    }
   ],
   "source": [
    "df2 = pd.get_dummies(df,columns=df.select_dtypes('object').keys(), \n",
    "                   prefix=df.select_dtypes('object').keys())\n",
    "df2.keys()"
   ]
  },
  {
   "cell_type": "markdown",
   "metadata": {},
   "source": [
    "## 刪除One-hot encoding的第一個類別欄位(base category)"
   ]
  },
  {
   "cell_type": "code",
   "execution_count": 42,
   "metadata": {},
   "outputs": [
    {
     "data": {
      "text/plain": [
       "Index(['BusinessTravel_Travel_Frequently', 'BusinessTravel_Travel_Rarely',\n",
       "       'Department_Research & Development', 'Department_Sales',\n",
       "       'EducationField_Life Sciences', 'EducationField_Marketing',\n",
       "       'EducationField_Medical', 'EducationField_Other',\n",
       "       'EducationField_Technical Degree', 'Gender_Male',\n",
       "       'JobRole_Healthcare Representative', 'JobRole_Human Resources',\n",
       "       'JobRole_Laboratory Technician', 'JobRole_Manager',\n",
       "       'JobRole_Manufacturing Director', 'JobRole_Research Director',\n",
       "       'JobRole_Research Scientist', 'JobRole_Sales Executive',\n",
       "       'JobRole_Sales Representative', 'MaritalStatus_Divorced',\n",
       "       'MaritalStatus_Married', 'Over18_Y', 'OverTime_Yes'],\n",
       "      dtype='object')"
      ]
     },
     "execution_count": 42,
     "metadata": {},
     "output_type": "execute_result"
    }
   ],
   "source": [
    "df2.drop({'Attrition_No','BusinessTravel_Non-Travel','Department_Human Resources',\n",
    "         'EducationField_Human Resources','Gender_Female', 'MaritalStatus_Single',\n",
    "          'OverTime_No'}, axis=1,inplace=True)\n",
    "cont_vars=df2.select_dtypes('int').keys()\n",
    "dummies= df2.select_dtypes('uint8').keys().drop('Attrition_Yes') # 刪除目標變數(Y) \n",
    "dummies"
   ]
  },
  {
   "cell_type": "markdown",
   "metadata": {},
   "source": [
    "## 指定特徵(X)及目標變數(Y)"
   ]
  },
  {
   "cell_type": "code",
   "execution_count": 59,
   "metadata": {
    "scrolled": false
   },
   "outputs": [],
   "source": [
    "X = df2.drop('Attrition_Yes', axis=1)\n",
    "y = df2['Attrition_Yes']"
   ]
  },
  {
   "cell_type": "markdown",
   "metadata": {},
   "source": [
    "## 3. 不須進行特徵工程"
   ]
  },
  {
   "cell_type": "markdown",
   "metadata": {},
   "source": [
    "## 4. 資料分割"
   ]
  },
  {
   "cell_type": "code",
   "execution_count": 60,
   "metadata": {},
   "outputs": [
    {
     "data": {
      "text/plain": [
       "((1176, 45), (294, 45), (1176,), (294,))"
      ]
     },
     "execution_count": 60,
     "metadata": {},
     "output_type": "execute_result"
    }
   ],
   "source": [
    "# 資料分割\n",
    "X_train, X_test, y_train, y_test = train_test_split(X, y, test_size=.2)\n",
    "\n",
    "# 查看陣列維度\n",
    "X_train.shape, X_test.shape, y_train.shape, y_test.shape"
   ]
  },
  {
   "cell_type": "markdown",
   "metadata": {},
   "source": [
    "## 特徵縮放"
   ]
  },
  {
   "cell_type": "code",
   "execution_count": 61,
   "metadata": {},
   "outputs": [],
   "source": [
    "scaler = preprocessing.StandardScaler()\n",
    "X_train_std = scaler.fit_transform(X_train)\n",
    "X_test_std = scaler.transform(X_test)"
   ]
  },
  {
   "cell_type": "markdown",
   "metadata": {},
   "source": [
    "## 5. 選擇演算法、6. 模型訓練"
   ]
  },
  {
   "cell_type": "code",
   "execution_count": 76,
   "metadata": {},
   "outputs": [
    {
     "data": {
      "text/html": [
       "<style>#sk-container-id-3 {color: black;background-color: white;}#sk-container-id-3 pre{padding: 0;}#sk-container-id-3 div.sk-toggleable {background-color: white;}#sk-container-id-3 label.sk-toggleable__label {cursor: pointer;display: block;width: 100%;margin-bottom: 0;padding: 0.3em;box-sizing: border-box;text-align: center;}#sk-container-id-3 label.sk-toggleable__label-arrow:before {content: \"▸\";float: left;margin-right: 0.25em;color: #696969;}#sk-container-id-3 label.sk-toggleable__label-arrow:hover:before {color: black;}#sk-container-id-3 div.sk-estimator:hover label.sk-toggleable__label-arrow:before {color: black;}#sk-container-id-3 div.sk-toggleable__content {max-height: 0;max-width: 0;overflow: hidden;text-align: left;background-color: #f0f8ff;}#sk-container-id-3 div.sk-toggleable__content pre {margin: 0.2em;color: black;border-radius: 0.25em;background-color: #f0f8ff;}#sk-container-id-3 input.sk-toggleable__control:checked~div.sk-toggleable__content {max-height: 200px;max-width: 100%;overflow: auto;}#sk-container-id-3 input.sk-toggleable__control:checked~label.sk-toggleable__label-arrow:before {content: \"▾\";}#sk-container-id-3 div.sk-estimator input.sk-toggleable__control:checked~label.sk-toggleable__label {background-color: #d4ebff;}#sk-container-id-3 div.sk-label input.sk-toggleable__control:checked~label.sk-toggleable__label {background-color: #d4ebff;}#sk-container-id-3 input.sk-hidden--visually {border: 0;clip: rect(1px 1px 1px 1px);clip: rect(1px, 1px, 1px, 1px);height: 1px;margin: -1px;overflow: hidden;padding: 0;position: absolute;width: 1px;}#sk-container-id-3 div.sk-estimator {font-family: monospace;background-color: #f0f8ff;border: 1px dotted black;border-radius: 0.25em;box-sizing: border-box;margin-bottom: 0.5em;}#sk-container-id-3 div.sk-estimator:hover {background-color: #d4ebff;}#sk-container-id-3 div.sk-parallel-item::after {content: \"\";width: 100%;border-bottom: 1px solid gray;flex-grow: 1;}#sk-container-id-3 div.sk-label:hover label.sk-toggleable__label {background-color: #d4ebff;}#sk-container-id-3 div.sk-serial::before {content: \"\";position: absolute;border-left: 1px solid gray;box-sizing: border-box;top: 0;bottom: 0;left: 50%;z-index: 0;}#sk-container-id-3 div.sk-serial {display: flex;flex-direction: column;align-items: center;background-color: white;padding-right: 0.2em;padding-left: 0.2em;position: relative;}#sk-container-id-3 div.sk-item {position: relative;z-index: 1;}#sk-container-id-3 div.sk-parallel {display: flex;align-items: stretch;justify-content: center;background-color: white;position: relative;}#sk-container-id-3 div.sk-item::before, #sk-container-id-3 div.sk-parallel-item::before {content: \"\";position: absolute;border-left: 1px solid gray;box-sizing: border-box;top: 0;bottom: 0;left: 50%;z-index: -1;}#sk-container-id-3 div.sk-parallel-item {display: flex;flex-direction: column;z-index: 1;position: relative;background-color: white;}#sk-container-id-3 div.sk-parallel-item:first-child::after {align-self: flex-end;width: 50%;}#sk-container-id-3 div.sk-parallel-item:last-child::after {align-self: flex-start;width: 50%;}#sk-container-id-3 div.sk-parallel-item:only-child::after {width: 0;}#sk-container-id-3 div.sk-dashed-wrapped {border: 1px dashed gray;margin: 0 0.4em 0.5em 0.4em;box-sizing: border-box;padding-bottom: 0.4em;background-color: white;}#sk-container-id-3 div.sk-label label {font-family: monospace;font-weight: bold;display: inline-block;line-height: 1.2em;}#sk-container-id-3 div.sk-label-container {text-align: center;}#sk-container-id-3 div.sk-container {/* jupyter's `normalize.less` sets `[hidden] { display: none; }` but bootstrap.min.css set `[hidden] { display: none !important; }` so we also need the `!important` here to be able to override the default hidden behavior on the sphinx rendered scikit-learn.org. See: https://github.com/scikit-learn/scikit-learn/issues/21755 */display: inline-block !important;position: relative;}#sk-container-id-3 div.sk-text-repr-fallback {display: none;}</style><div id=\"sk-container-id-3\" class=\"sk-top-container\"><div class=\"sk-text-repr-fallback\"><pre>LogisticRegression()</pre><b>In a Jupyter environment, please rerun this cell to show the HTML representation or trust the notebook. <br />On GitHub, the HTML representation is unable to render, please try loading this page with nbviewer.org.</b></div><div class=\"sk-container\" hidden><div class=\"sk-item\"><div class=\"sk-estimator sk-toggleable\"><input class=\"sk-toggleable__control sk-hidden--visually\" id=\"sk-estimator-id-3\" type=\"checkbox\" checked><label for=\"sk-estimator-id-3\" class=\"sk-toggleable__label sk-toggleable__label-arrow\">LogisticRegression</label><div class=\"sk-toggleable__content\"><pre>LogisticRegression()</pre></div></div></div></div></div>"
      ],
      "text/plain": [
       "LogisticRegression()"
      ]
     },
     "execution_count": 76,
     "metadata": {},
     "output_type": "execute_result"
    }
   ],
   "source": [
    "from sklearn.linear_model import LogisticRegression\n",
    "clf = LogisticRegression()\n",
    "clf.fit(X_train_std, y_train)"
   ]
  },
  {
   "cell_type": "markdown",
   "metadata": {},
   "source": [
    "## 7. 模型評分"
   ]
  },
  {
   "cell_type": "code",
   "execution_count": 64,
   "metadata": {},
   "outputs": [
    {
     "name": "stdout",
     "output_type": "stream",
     "text": [
      "90.14%\n"
     ]
    }
   ],
   "source": [
    "# 計算準確率\n",
    "y_pred = clf.predict(X_test_std)\n",
    "print(f'{accuracy_score(y_test, y_pred)*100:.2f}%') "
   ]
  },
  {
   "cell_type": "code",
   "execution_count": 65,
   "metadata": {},
   "outputs": [
    {
     "name": "stdout",
     "output_type": "stream",
     "text": [
      "[[246   4]\n",
      " [ 25  19]]\n"
     ]
    }
   ],
   "source": [
    "# 混淆矩陣\n",
    "from sklearn.metrics import confusion_matrix\n",
    "print(confusion_matrix(y_test, y_pred))"
   ]
  },
  {
   "cell_type": "code",
   "execution_count": 66,
   "metadata": {},
   "outputs": [
    {
     "data": {
      "image/png": "[encoded data removed]",
      "text/plain": [
       "<Figure size 432x288 with 2 Axes>"
      ]
     },
     "metadata": {
      "needs_background": "light"
     },
     "output_type": "display_data"
    }
   ],
   "source": [
    "# 混淆矩陣圖\n",
    "from sklearn.metrics import ConfusionMatrixDisplay\n",
    "import matplotlib.pyplot as plt\n",
    "\n",
    "disp = ConfusionMatrixDisplay(confusion_matrix=confusion_matrix(y_test, y_pred))\n",
    "disp.plot()\n",
    "plt.show()"
   ]
  },
  {
   "cell_type": "markdown",
   "metadata": {},
   "source": [
    "## statsmodels 作法"
   ]
  },
  {
   "cell_type": "code",
   "execution_count": 73,
   "metadata": {
    "scrolled": false
   },
   "outputs": [
    {
     "name": "stdout",
     "output_type": "stream",
     "text": [
      "Warning: Maximum number of iterations has been exceeded.\n",
      "         Current function value: inf\n",
      "         Iterations: 35\n",
      "                           Logit Regression Results                           \n",
      "==============================================================================\n",
      "Dep. Variable:          Attrition_Yes   No. Observations:                 1176\n",
      "Model:                          Logit   Df Residuals:                     1134\n",
      "Method:                           MLE   Df Model:                           41\n",
      "Date:                Mon, 02 Jan 2023   Pseudo R-squ.:                     inf\n",
      "Time:                        17:50:04   Log-Likelihood:                   -inf\n",
      "converged:                      False   LL-Null:                        0.0000\n",
      "Covariance Type:            nonrobust   LLR p-value:                     1.000\n",
      "=====================================================================================================\n",
      "                                        coef    std err          z      P>|z|      [0.025      0.975]\n",
      "-----------------------------------------------------------------------------------------------------\n",
      "Age                                  -0.0480      0.014     -3.387      0.001      -0.076      -0.020\n",
      "DailyRate                            -0.0003      0.000     -1.392      0.164      -0.001       0.000\n",
      "DistanceFromHome                      0.0361      0.012      3.035      0.002       0.013       0.059\n",
      "Education                             0.0912      0.096      0.950      0.342      -0.097       0.280\n",
      "EmployeeCount                        -0.0186   9.52e+06  -1.95e-09      1.000   -1.87e+07    1.87e+07\n",
      "EmployeeNumber                    -1.813e-05      0.000     -0.110      0.913      -0.000       0.000\n",
      "EnvironmentSatisfaction              -0.4539      0.089     -5.119      0.000      -0.628      -0.280\n",
      "HourlyRate                           -0.0021      0.005     -0.427      0.669      -0.012       0.007\n",
      "JobInvolvement                       -0.6282      0.138     -4.555      0.000      -0.898      -0.358\n",
      "JobLevel                              0.1025      0.324      0.316      0.752      -0.533       0.738\n",
      "JobSatisfaction                      -0.3284      0.087     -3.770      0.000      -0.499      -0.158\n",
      "MonthlyIncome                     -2.154e-05   8.59e-05     -0.251      0.802      -0.000       0.000\n",
      "MonthlyRate                        9.023e-06   1.35e-05      0.666      0.505   -1.75e-05    3.56e-05\n",
      "NumCompaniesWorked                    0.1705      0.041      4.117      0.000       0.089       0.252\n",
      "PercentSalaryHike                    -0.0150      0.042     -0.355      0.723      -0.098       0.068\n",
      "PerformanceRating                    -0.1432      0.434     -0.330      0.742      -0.994       0.708\n",
      "RelationshipSatisfaction             -0.2300      0.092     -2.492      0.013      -0.411      -0.049\n",
      "StandardHours                        -1.4774   7605.207     -0.000      1.000   -1.49e+04    1.49e+04\n",
      "StockOptionLevel                     -0.4781      0.184     -2.605      0.009      -0.838      -0.118\n",
      "TrainingTimesLastYear                -0.1369      0.079     -1.730      0.084      -0.292       0.018\n",
      "WorkLifeBalance                      -0.2267      0.139     -1.633      0.103      -0.499       0.045\n",
      "YearsAtCompany                       -0.0068      0.023     -0.297      0.766      -0.052       0.038\n",
      "BusinessTravel_Travel_Frequently      1.9212      0.486      3.951      0.000       0.968       2.874\n",
      "BusinessTravel_Travel_Rarely          1.0717      0.460      2.330      0.020       0.170       1.973\n",
      "Department_Research & Development   138.3099        nan        nan        nan         nan         nan\n",
      "Department_Sales                    137.9878        nan        nan        nan         nan         nan\n",
      "EducationField_Life Sciences         -1.3071      0.861     -1.517      0.129      -2.995       0.381\n",
      "EducationField_Marketing             -0.9556      0.919     -1.040      0.298      -2.757       0.845\n",
      "EducationField_Medical               -1.3594      0.860     -1.581      0.114      -3.044       0.325\n",
      "EducationField_Other                 -1.7727      0.937     -1.891      0.059      -3.610       0.065\n",
      "EducationField_Technical Degree      -0.7332      0.884     -0.829      0.407      -2.466       0.999\n",
      "Gender_Male                           0.3205      0.203      1.580      0.114      -0.077       0.718\n",
      "JobRole_Healthcare Representative   -16.2218   5.87e+06  -2.76e-06      1.000   -1.15e+07    1.15e+07\n",
      "JobRole_Human Resources             123.5525   5.05e+06   2.45e-05      1.000   -9.89e+06    9.89e+06\n",
      "JobRole_Laboratory Technician       -14.4344   5.87e+06  -2.46e-06      1.000   -1.15e+07    1.15e+07\n",
      "JobRole_Manager                     -15.6318   5.87e+06  -2.66e-06      1.000   -1.15e+07    1.15e+07\n",
      "JobRole_Manufacturing Director      -16.0370   5.87e+06  -2.73e-06      1.000   -1.15e+07    1.15e+07\n",
      "JobRole_Research Director           -17.2584   5.87e+06  -2.94e-06      1.000   -1.15e+07    1.15e+07\n",
      "JobRole_Research Scientist          -15.4692   5.87e+06  -2.63e-06      1.000   -1.15e+07    1.15e+07\n",
      "JobRole_Sales Executive             -14.8737   5.87e+06  -2.53e-06      1.000   -1.15e+07    1.15e+07\n",
      "JobRole_Sales Representative        -13.6446   5.87e+06  -2.32e-06      1.000   -1.15e+07    1.15e+07\n",
      "MaritalStatus_Divorced               -0.5861      0.380     -1.543      0.123      -1.331       0.158\n",
      "MaritalStatus_Married                -0.4060      0.270     -1.502      0.133      -0.936       0.124\n",
      "Over18_Y                             -0.0185   6.01e+06  -3.08e-09      1.000   -1.18e+07    1.18e+07\n",
      "OverTime_Yes                          1.8943      0.213      8.888      0.000       1.477       2.312\n",
      "=====================================================================================================\n"
     ]
    },
    {
     "name": "stderr",
     "output_type": "stream",
     "text": [
      "C:\\anaconda3\\lib\\site-packages\\statsmodels\\discrete\\discrete_model.py:1819: RuntimeWarning: overflow encountered in exp\n",
      "  return 1/(1+np.exp(-X))\n",
      "C:\\anaconda3\\lib\\site-packages\\statsmodels\\discrete\\discrete_model.py:1872: RuntimeWarning: divide by zero encountered in log\n",
      "  return np.sum(np.log(self.cdf(q*np.dot(X,params))))\n",
      "C:\\anaconda3\\lib\\site-packages\\statsmodels\\base\\model.py:604: ConvergenceWarning: Maximum Likelihood optimization failed to converge. Check mle_retvals\n",
      "  warnings.warn(\"Maximum Likelihood optimization failed to \"\n",
      "C:\\anaconda3\\lib\\site-packages\\statsmodels\\base\\model.py:592: HessianInversionWarning: Inverting hessian failed, no bse or cov_params available\n",
      "  warnings.warn('Inverting hessian failed, no bse or cov_params '\n",
      "C:\\anaconda3\\lib\\site-packages\\statsmodels\\base\\model.py:592: HessianInversionWarning: Inverting hessian failed, no bse or cov_params available\n",
      "  warnings.warn('Inverting hessian failed, no bse or cov_params '\n"
     ]
    }
   ],
   "source": [
    "import statsmodels.api as sm\n",
    "\n",
    "model=sm.Logit(y_train, X_train)\n",
    "result=model.fit()\n",
    "print(result.summary())"
   ]
  },
  {
   "cell_type": "markdown",
   "metadata": {},
   "source": [
    "## 顯示權重資訊"
   ]
  },
  {
   "cell_type": "code",
   "execution_count": 74,
   "metadata": {
    "scrolled": true
   },
   "outputs": [
    {
     "data": {
      "text/html": [
       "<div>\n",
       "<style scoped>\n",
       "    .dataframe tbody tr th:only-of-type {\n",
       "        vertical-align: middle;\n",
       "    }\n",
       "\n",
       "    .dataframe tbody tr th {\n",
       "        vertical-align: top;\n",
       "    }\n",
       "\n",
       "    .dataframe thead th {\n",
       "        text-align: right;\n",
       "    }\n",
       "</style>\n",
       "<table border=\"1\" class=\"dataframe\">\n",
       "  <thead>\n",
       "    <tr style=\"text-align: right;\">\n",
       "      <th></th>\n",
       "      <th>coefficients</th>\n",
       "      <th>p-value</th>\n",
       "      <th>odds_ratio</th>\n",
       "    </tr>\n",
       "  </thead>\n",
       "  <tbody>\n",
       "    <tr>\n",
       "      <th>Age</th>\n",
       "      <td>-0.048007</td>\n",
       "      <td>7.054524e-04</td>\n",
       "      <td>9.531270e-01</td>\n",
       "    </tr>\n",
       "    <tr>\n",
       "      <th>DailyRate</th>\n",
       "      <td>-0.000339</td>\n",
       "      <td>1.639429e-01</td>\n",
       "      <td>9.996612e-01</td>\n",
       "    </tr>\n",
       "    <tr>\n",
       "      <th>DistanceFromHome</th>\n",
       "      <td>0.036055</td>\n",
       "      <td>2.401740e-03</td>\n",
       "      <td>1.036713e+00</td>\n",
       "    </tr>\n",
       "    <tr>\n",
       "      <th>Education</th>\n",
       "      <td>0.091243</td>\n",
       "      <td>3.422700e-01</td>\n",
       "      <td>1.095535e+00</td>\n",
       "    </tr>\n",
       "    <tr>\n",
       "      <th>EmployeeCount</th>\n",
       "      <td>-0.018550</td>\n",
       "      <td>1.000000e+00</td>\n",
       "      <td>9.816208e-01</td>\n",
       "    </tr>\n",
       "    <tr>\n",
       "      <th>EmployeeNumber</th>\n",
       "      <td>-0.000018</td>\n",
       "      <td>9.125469e-01</td>\n",
       "      <td>9.999819e-01</td>\n",
       "    </tr>\n",
       "    <tr>\n",
       "      <th>EnvironmentSatisfaction</th>\n",
       "      <td>-0.453897</td>\n",
       "      <td>3.065622e-07</td>\n",
       "      <td>6.351479e-01</td>\n",
       "    </tr>\n",
       "    <tr>\n",
       "      <th>HourlyRate</th>\n",
       "      <td>-0.002071</td>\n",
       "      <td>6.691536e-01</td>\n",
       "      <td>9.979316e-01</td>\n",
       "    </tr>\n",
       "    <tr>\n",
       "      <th>JobInvolvement</th>\n",
       "      <td>-0.628173</td>\n",
       "      <td>5.235039e-06</td>\n",
       "      <td>5.335658e-01</td>\n",
       "    </tr>\n",
       "    <tr>\n",
       "      <th>JobLevel</th>\n",
       "      <td>0.102543</td>\n",
       "      <td>7.518654e-01</td>\n",
       "      <td>1.107985e+00</td>\n",
       "    </tr>\n",
       "    <tr>\n",
       "      <th>JobSatisfaction</th>\n",
       "      <td>-0.328427</td>\n",
       "      <td>1.629872e-04</td>\n",
       "      <td>7.200556e-01</td>\n",
       "    </tr>\n",
       "    <tr>\n",
       "      <th>MonthlyIncome</th>\n",
       "      <td>-0.000022</td>\n",
       "      <td>8.019341e-01</td>\n",
       "      <td>9.999785e-01</td>\n",
       "    </tr>\n",
       "    <tr>\n",
       "      <th>MonthlyRate</th>\n",
       "      <td>0.000009</td>\n",
       "      <td>5.053305e-01</td>\n",
       "      <td>1.000009e+00</td>\n",
       "    </tr>\n",
       "    <tr>\n",
       "      <th>NumCompaniesWorked</th>\n",
       "      <td>0.170474</td>\n",
       "      <td>3.838689e-05</td>\n",
       "      <td>1.185867e+00</td>\n",
       "    </tr>\n",
       "    <tr>\n",
       "      <th>PercentSalaryHike</th>\n",
       "      <td>-0.014956</td>\n",
       "      <td>7.227474e-01</td>\n",
       "      <td>9.851549e-01</td>\n",
       "    </tr>\n",
       "    <tr>\n",
       "      <th>PerformanceRating</th>\n",
       "      <td>-0.143208</td>\n",
       "      <td>7.415570e-01</td>\n",
       "      <td>8.665739e-01</td>\n",
       "    </tr>\n",
       "    <tr>\n",
       "      <th>RelationshipSatisfaction</th>\n",
       "      <td>-0.229994</td>\n",
       "      <td>1.271721e-02</td>\n",
       "      <td>7.945381e-01</td>\n",
       "    </tr>\n",
       "    <tr>\n",
       "      <th>StandardHours</th>\n",
       "      <td>-1.477360</td>\n",
       "      <td>9.998450e-01</td>\n",
       "      <td>2.282396e-01</td>\n",
       "    </tr>\n",
       "    <tr>\n",
       "      <th>StockOptionLevel</th>\n",
       "      <td>-0.478140</td>\n",
       "      <td>9.189381e-03</td>\n",
       "      <td>6.199353e-01</td>\n",
       "    </tr>\n",
       "    <tr>\n",
       "      <th>TrainingTimesLastYear</th>\n",
       "      <td>-0.136858</td>\n",
       "      <td>8.365630e-02</td>\n",
       "      <td>8.720938e-01</td>\n",
       "    </tr>\n",
       "    <tr>\n",
       "      <th>WorkLifeBalance</th>\n",
       "      <td>-0.226696</td>\n",
       "      <td>1.025160e-01</td>\n",
       "      <td>7.971634e-01</td>\n",
       "    </tr>\n",
       "    <tr>\n",
       "      <th>YearsAtCompany</th>\n",
       "      <td>-0.006837</td>\n",
       "      <td>7.662784e-01</td>\n",
       "      <td>9.931864e-01</td>\n",
       "    </tr>\n",
       "    <tr>\n",
       "      <th>BusinessTravel_Travel_Frequently</th>\n",
       "      <td>1.921224</td>\n",
       "      <td>7.783882e-05</td>\n",
       "      <td>6.829312e+00</td>\n",
       "    </tr>\n",
       "    <tr>\n",
       "      <th>BusinessTravel_Travel_Rarely</th>\n",
       "      <td>1.071666</td>\n",
       "      <td>1.978192e-02</td>\n",
       "      <td>2.920240e+00</td>\n",
       "    </tr>\n",
       "    <tr>\n",
       "      <th>Department_Research &amp; Development</th>\n",
       "      <td>138.309934</td>\n",
       "      <td>NaN</td>\n",
       "      <td>1.167457e+60</td>\n",
       "    </tr>\n",
       "    <tr>\n",
       "      <th>Department_Sales</th>\n",
       "      <td>137.987753</td>\n",
       "      <td>NaN</td>\n",
       "      <td>8.459013e+59</td>\n",
       "    </tr>\n",
       "    <tr>\n",
       "      <th>EducationField_Life Sciences</th>\n",
       "      <td>-1.307139</td>\n",
       "      <td>1.291440e-01</td>\n",
       "      <td>2.705932e-01</td>\n",
       "    </tr>\n",
       "    <tr>\n",
       "      <th>EducationField_Marketing</th>\n",
       "      <td>-0.955625</td>\n",
       "      <td>2.983600e-01</td>\n",
       "      <td>3.845718e-01</td>\n",
       "    </tr>\n",
       "    <tr>\n",
       "      <th>EducationField_Medical</th>\n",
       "      <td>-1.359362</td>\n",
       "      <td>1.138037e-01</td>\n",
       "      <td>2.568245e-01</td>\n",
       "    </tr>\n",
       "    <tr>\n",
       "      <th>EducationField_Other</th>\n",
       "      <td>-1.772727</td>\n",
       "      <td>5.862048e-02</td>\n",
       "      <td>1.698691e-01</td>\n",
       "    </tr>\n",
       "    <tr>\n",
       "      <th>EducationField_Technical Degree</th>\n",
       "      <td>-0.733174</td>\n",
       "      <td>4.068531e-01</td>\n",
       "      <td>4.803819e-01</td>\n",
       "    </tr>\n",
       "    <tr>\n",
       "      <th>Gender_Male</th>\n",
       "      <td>0.320547</td>\n",
       "      <td>1.141140e-01</td>\n",
       "      <td>1.377882e+00</td>\n",
       "    </tr>\n",
       "    <tr>\n",
       "      <th>JobRole_Healthcare Representative</th>\n",
       "      <td>-16.221790</td>\n",
       "      <td>9.999978e-01</td>\n",
       "      <td>9.015010e-08</td>\n",
       "    </tr>\n",
       "    <tr>\n",
       "      <th>JobRole_Human Resources</th>\n",
       "      <td>123.552544</td>\n",
       "      <td>9.999805e-01</td>\n",
       "      <td>4.551850e+53</td>\n",
       "    </tr>\n",
       "    <tr>\n",
       "      <th>JobRole_Laboratory Technician</th>\n",
       "      <td>-14.434450</td>\n",
       "      <td>9.999980e-01</td>\n",
       "      <td>5.385154e-07</td>\n",
       "    </tr>\n",
       "    <tr>\n",
       "      <th>JobRole_Manager</th>\n",
       "      <td>-15.631839</td>\n",
       "      <td>9.999979e-01</td>\n",
       "      <td>1.626218e-07</td>\n",
       "    </tr>\n",
       "    <tr>\n",
       "      <th>JobRole_Manufacturing Director</th>\n",
       "      <td>-16.037025</td>\n",
       "      <td>9.999978e-01</td>\n",
       "      <td>1.084447e-07</td>\n",
       "    </tr>\n",
       "    <tr>\n",
       "      <th>JobRole_Research Director</th>\n",
       "      <td>-17.258425</td>\n",
       "      <td>9.999977e-01</td>\n",
       "      <td>3.197138e-08</td>\n",
       "    </tr>\n",
       "    <tr>\n",
       "      <th>JobRole_Research Scientist</th>\n",
       "      <td>-15.469195</td>\n",
       "      <td>9.999979e-01</td>\n",
       "      <td>1.913437e-07</td>\n",
       "    </tr>\n",
       "    <tr>\n",
       "      <th>JobRole_Sales Executive</th>\n",
       "      <td>-14.873726</td>\n",
       "      <td>9.999980e-01</td>\n",
       "      <td>3.470748e-07</td>\n",
       "    </tr>\n",
       "    <tr>\n",
       "      <th>JobRole_Sales Representative</th>\n",
       "      <td>-13.644601</td>\n",
       "      <td>9.999981e-01</td>\n",
       "      <td>1.186384e-06</td>\n",
       "    </tr>\n",
       "    <tr>\n",
       "      <th>MaritalStatus_Divorced</th>\n",
       "      <td>-0.586122</td>\n",
       "      <td>1.227771e-01</td>\n",
       "      <td>5.564809e-01</td>\n",
       "    </tr>\n",
       "    <tr>\n",
       "      <th>MaritalStatus_Married</th>\n",
       "      <td>-0.405959</td>\n",
       "      <td>1.330407e-01</td>\n",
       "      <td>6.663374e-01</td>\n",
       "    </tr>\n",
       "    <tr>\n",
       "      <th>Over18_Y</th>\n",
       "      <td>-0.018524</td>\n",
       "      <td>1.000000e+00</td>\n",
       "      <td>9.816461e-01</td>\n",
       "    </tr>\n",
       "    <tr>\n",
       "      <th>OverTime_Yes</th>\n",
       "      <td>1.894307</td>\n",
       "      <td>6.203173e-19</td>\n",
       "      <td>6.647937e+00</td>\n",
       "    </tr>\n",
       "  </tbody>\n",
       "</table>\n",
       "</div>"
      ],
      "text/plain": [
       "                                   coefficients       p-value    odds_ratio\n",
       "Age                                   -0.048007  7.054524e-04  9.531270e-01\n",
       "DailyRate                             -0.000339  1.639429e-01  9.996612e-01\n",
       "DistanceFromHome                       0.036055  2.401740e-03  1.036713e+00\n",
       "Education                              0.091243  3.422700e-01  1.095535e+00\n",
       "EmployeeCount                         -0.018550  1.000000e+00  9.816208e-01\n",
       "EmployeeNumber                        -0.000018  9.125469e-01  9.999819e-01\n",
       "EnvironmentSatisfaction               -0.453897  3.065622e-07  6.351479e-01\n",
       "HourlyRate                            -0.002071  6.691536e-01  9.979316e-01\n",
       "JobInvolvement                        -0.628173  5.235039e-06  5.335658e-01\n",
       "JobLevel                               0.102543  7.518654e-01  1.107985e+00\n",
       "JobSatisfaction                       -0.328427  1.629872e-04  7.200556e-01\n",
       "MonthlyIncome                         -0.000022  8.019341e-01  9.999785e-01\n",
       "MonthlyRate                            0.000009  5.053305e-01  1.000009e+00\n",
       "NumCompaniesWorked                     0.170474  3.838689e-05  1.185867e+00\n",
       "PercentSalaryHike                     -0.014956  7.227474e-01  9.851549e-01\n",
       "PerformanceRating                     -0.143208  7.415570e-01  8.665739e-01\n",
       "RelationshipSatisfaction              -0.229994  1.271721e-02  7.945381e-01\n",
       "StandardHours                         -1.477360  9.998450e-01  2.282396e-01\n",
       "StockOptionLevel                      -0.478140  9.189381e-03  6.199353e-01\n",
       "TrainingTimesLastYear                 -0.136858  8.365630e-02  8.720938e-01\n",
       "WorkLifeBalance                       -0.226696  1.025160e-01  7.971634e-01\n",
       "YearsAtCompany                        -0.006837  7.662784e-01  9.931864e-01\n",
       "BusinessTravel_Travel_Frequently       1.921224  7.783882e-05  6.829312e+00\n",
       "BusinessTravel_Travel_Rarely           1.071666  1.978192e-02  2.920240e+00\n",
       "Department_Research & Development    138.309934           NaN  1.167457e+60\n",
       "Department_Sales                     137.987753           NaN  8.459013e+59\n",
       "EducationField_Life Sciences          -1.307139  1.291440e-01  2.705932e-01\n",
       "EducationField_Marketing              -0.955625  2.983600e-01  3.845718e-01\n",
       "EducationField_Medical                -1.359362  1.138037e-01  2.568245e-01\n",
       "EducationField_Other                  -1.772727  5.862048e-02  1.698691e-01\n",
       "EducationField_Technical Degree       -0.733174  4.068531e-01  4.803819e-01\n",
       "Gender_Male                            0.320547  1.141140e-01  1.377882e+00\n",
       "JobRole_Healthcare Representative    -16.221790  9.999978e-01  9.015010e-08\n",
       "JobRole_Human Resources              123.552544  9.999805e-01  4.551850e+53\n",
       "JobRole_Laboratory Technician        -14.434450  9.999980e-01  5.385154e-07\n",
       "JobRole_Manager                      -15.631839  9.999979e-01  1.626218e-07\n",
       "JobRole_Manufacturing Director       -16.037025  9.999978e-01  1.084447e-07\n",
       "JobRole_Research Director            -17.258425  9.999977e-01  3.197138e-08\n",
       "JobRole_Research Scientist           -15.469195  9.999979e-01  1.913437e-07\n",
       "JobRole_Sales Executive              -14.873726  9.999980e-01  3.470748e-07\n",
       "JobRole_Sales Representative         -13.644601  9.999981e-01  1.186384e-06\n",
       "MaritalStatus_Divorced                -0.586122  1.227771e-01  5.564809e-01\n",
       "MaritalStatus_Married                 -0.405959  1.330407e-01  6.663374e-01\n",
       "Over18_Y                              -0.018524  1.000000e+00  9.816461e-01\n",
       "OverTime_Yes                           1.894307  6.203173e-19  6.647937e+00"
      ]
     },
     "execution_count": 74,
     "metadata": {},
     "output_type": "execute_result"
    }
   ],
   "source": [
    "stat_df=pd.DataFrame({'coefficients':result.params, 'p-value': result.pvalues,\n",
    "                      'odds_ratio': np.exp(result.params)})\n",
    "stat_df"
   ]
  },
  {
   "cell_type": "markdown",
   "metadata": {},
   "source": [
    "## 篩選重要的特徵變數"
   ]
  },
  {
   "cell_type": "code",
   "execution_count": 75,
   "metadata": {
    "scrolled": true
   },
   "outputs": [
    {
     "data": {
      "text/plain": [
       "Index(['Age', 'DistanceFromHome', 'EnvironmentSatisfaction', 'JobInvolvement',\n",
       "       'JobSatisfaction', 'NumCompaniesWorked', 'RelationshipSatisfaction',\n",
       "       'StockOptionLevel', 'BusinessTravel_Travel_Frequently',\n",
       "       'BusinessTravel_Travel_Rarely', 'OverTime_Yes'],\n",
       "      dtype='object')"
      ]
     },
     "execution_count": 75,
     "metadata": {},
     "output_type": "execute_result"
    }
   ],
   "source": [
    "significant_params=stat_df[stat_df['p-value']<=0.05].index\n",
    "significant_params"
   ]
  },
  {
   "cell_type": "markdown",
   "metadata": {},
   "source": [
    "## 勝負比(Odds)"
   ]
  },
  {
   "cell_type": "code",
   "execution_count": 77,
   "metadata": {
    "scrolled": true
   },
   "outputs": [
    {
     "data": {
      "text/plain": [
       "BusinessTravel_Travel_Frequently    6.829312\n",
       "OverTime_Yes                        6.647937\n",
       "BusinessTravel_Travel_Rarely        2.920240\n",
       "NumCompaniesWorked                  1.185867\n",
       "DistanceFromHome                    1.036713\n",
       "Age                                 0.953127\n",
       "RelationshipSatisfaction            0.794538\n",
       "JobSatisfaction                     0.720056\n",
       "EnvironmentSatisfaction             0.635148\n",
       "StockOptionLevel                    0.619935\n",
       "JobInvolvement                      0.533566\n",
       "Name: odds_ratio, dtype: float64"
      ]
     },
     "execution_count": 77,
     "metadata": {},
     "output_type": "execute_result"
    }
   ],
   "source": [
    "stat_df.loc[significant_params].sort_values('odds_ratio', ascending=False)['odds_ratio']"
   ]
  },
  {
   "cell_type": "markdown",
   "metadata": {},
   "source": [
    "## 最後底定的模型：只保留重要的特徵變數"
   ]
  },
  {
   "cell_type": "code",
   "execution_count": 78,
   "metadata": {},
   "outputs": [
    {
     "name": "stdout",
     "output_type": "stream",
     "text": [
      "Optimization terminated successfully.\n",
      "         Current function value: inf\n",
      "         Iterations 7\n",
      "                           Logit Regression Results                           \n",
      "==============================================================================\n",
      "Dep. Variable:          Attrition_Yes   No. Observations:                 1176\n",
      "Model:                          Logit   Df Residuals:                     1165\n",
      "Method:                           MLE   Df Model:                           10\n",
      "Date:                Mon, 02 Jan 2023   Pseudo R-squ.:                     inf\n",
      "Time:                        18:20:43   Log-Likelihood:                   -inf\n",
      "converged:                       True   LL-Null:                        0.0000\n",
      "Covariance Type:            nonrobust   LLR p-value:                     1.000\n",
      "====================================================================================================\n",
      "                                       coef    std err          z      P>|z|      [0.025      0.975]\n",
      "----------------------------------------------------------------------------------------------------\n",
      "Age                                 -0.0454      0.009     -4.790      0.000      -0.064      -0.027\n",
      "DistanceFromHome                     0.0453      0.010      4.378      0.000       0.025       0.066\n",
      "EnvironmentSatisfaction             -0.2946      0.077     -3.818      0.000      -0.446      -0.143\n",
      "JobInvolvement                      -0.4095      0.112     -3.644      0.000      -0.630      -0.189\n",
      "JobSatisfaction                     -0.2094      0.074     -2.835      0.005      -0.354      -0.065\n",
      "NumCompaniesWorked                   0.1452      0.035      4.116      0.000       0.076       0.214\n",
      "RelationshipSatisfaction            -0.0808      0.079     -1.022      0.307      -0.236       0.074\n",
      "StockOptionLevel                    -0.4192      0.111     -3.776      0.000      -0.637      -0.202\n",
      "BusinessTravel_Travel_Frequently     2.0142      0.397      5.068      0.000       1.235       2.793\n",
      "BusinessTravel_Travel_Rarely         1.3608      0.368      3.702      0.000       0.640       2.081\n",
      "OverTime_Yes                         1.6415      0.182      9.024      0.000       1.285       1.998\n",
      "====================================================================================================\n"
     ]
    },
    {
     "name": "stderr",
     "output_type": "stream",
     "text": [
      "C:\\anaconda3\\lib\\site-packages\\statsmodels\\discrete\\discrete_model.py:1819: RuntimeWarning: overflow encountered in exp\n",
      "  return 1/(1+np.exp(-X))\n",
      "C:\\anaconda3\\lib\\site-packages\\statsmodels\\discrete\\discrete_model.py:1872: RuntimeWarning: divide by zero encountered in log\n",
      "  return np.sum(np.log(self.cdf(q*np.dot(X,params))))\n",
      "C:\\anaconda3\\lib\\site-packages\\statsmodels\\base\\model.py:592: HessianInversionWarning: Inverting hessian failed, no bse or cov_params available\n",
      "  warnings.warn('Inverting hessian failed, no bse or cov_params '\n",
      "C:\\anaconda3\\lib\\site-packages\\statsmodels\\base\\model.py:592: HessianInversionWarning: Inverting hessian failed, no bse or cov_params available\n",
      "  warnings.warn('Inverting hessian failed, no bse or cov_params '\n"
     ]
    }
   ],
   "source": [
    "y=df2['Attrition_Yes']\n",
    "X=df2[significant_params]\n",
    "\n",
    "X_train, X_test, y_train, y_test = train_test_split(X, y, test_size=0.2)\n",
    "model=sm.Logit(y_train,X_train)\n",
    "result=model.fit()\n",
    "print(result.summary())"
   ]
  },
  {
   "cell_type": "markdown",
   "metadata": {},
   "source": [
    "## 8. 模型評估，暫不進行"
   ]
  },
  {
   "cell_type": "markdown",
   "metadata": {},
   "source": [
    "## 9. 模型佈署"
   ]
  },
  {
   "cell_type": "markdown",
   "metadata": {},
   "source": [
    "## 10.模型預測，請參見 01_05_iris_prediction.py"
   ]
  },
  {
   "cell_type": "code",
   "execution_count": null,
   "metadata": {},
   "outputs": [],
   "source": []
  }
 ],
 "metadata": {
  "kernelspec": {
   "display_name": "Python 3 (ipykernel)",
   "language": "python",
   "name": "python3"
  },
  "language_info": {
   "codemirror_mode": {
    "name": "ipython",
    "version": 3
   },
   "file_extension": ".py",
   "mimetype": "text/x-python",
   "name": "python",
   "nbconvert_exporter": "python",
   "pygments_lexer": "ipython3",
   "version": "3.9.13"
  }
 },
 "nbformat": 4,
 "nbformat_minor": 2
}
