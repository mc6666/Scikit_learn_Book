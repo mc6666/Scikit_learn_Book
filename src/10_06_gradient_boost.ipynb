{
 "cells": [
  {
   "cell_type": "markdown",
   "metadata": {},
   "source": [
    "# 自行開發『梯度提升決策樹』(Gradient Boosting Decision Tree)"
   ]
  },
  {
   "cell_type": "markdown",
   "metadata": {},
   "source": [
    "## 載入相關套件"
   ]
  },
  {
   "cell_type": "code",
   "execution_count": 1,
   "metadata": {},
   "outputs": [],
   "source": [
    "from sklearn import datasets\n",
    "from sklearn.model_selection import train_test_split\n",
    "import numpy as np"
   ]
  },
  {
   "cell_type": "markdown",
   "metadata": {},
   "source": [
    "## 載入資料集"
   ]
  },
  {
   "cell_type": "code",
   "execution_count": 2,
   "metadata": {},
   "outputs": [],
   "source": [
    "X, y = datasets.load_diabetes(return_X_y=True)"
   ]
  },
  {
   "cell_type": "markdown",
   "metadata": {},
   "source": [
    "## 資料分割"
   ]
  },
  {
   "cell_type": "code",
   "execution_count": 3,
   "metadata": {},
   "outputs": [],
   "source": [
    "X_train, X_test, y_train, y_test = train_test_split(X, y, test_size=.2)"
   ]
  },
  {
   "cell_type": "markdown",
   "metadata": {},
   "source": [
    "## 建立Gradient Boost模型"
   ]
  },
  {
   "cell_type": "code",
   "execution_count": 5,
   "metadata": {},
   "outputs": [],
   "source": [
    "from sklearn.tree import DecisionTreeRegressor\n",
    "\n",
    "class GradientBooster:\n",
    "    # 初始化\n",
    "    def __init__(self, max_depth=8, min_samples_split=5, min_samples_leaf=5, max_features=3, lr=0.1, num_iter=1000):\n",
    "        self.max_depth = max_depth\n",
    "        self.min_samples_split = min_samples_split\n",
    "        self.min_samples_leaf = min_samples_leaf\n",
    "        self.max_features = max_features\n",
    "        self.lr = lr\n",
    "        self.num_iter = num_iter\n",
    "        self.y_mean = 0\n",
    "        \n",
    "    # 計算 MSE\n",
    "    def __calculate_loss(self,y, y_pred):\n",
    "        loss = (1/len(y)) * 0.5 * np.sum(np.square(y-y_pred))\n",
    "        return loss\n",
    "    \n",
    "    # 計算梯度\n",
    "    def __take_gradient(self, y, y_pred):\n",
    "        grad = -(y-y_pred)\n",
    "        return grad\n",
    "    \n",
    "    # 單一模型訓練\n",
    "    def __create_base_model(self, X, y):\n",
    "        base = DecisionTreeRegressor(criterion='squared_error',max_depth=self.max_depth,\n",
    "                                    min_samples_split=self.min_samples_split,\n",
    "                                    min_samples_leaf=self.min_samples_leaf,\n",
    "                                    max_features=self.max_features)\n",
    "        base.fit(X,y)\n",
    "        return base\n",
    "    \n",
    "    # 預測\n",
    "    def predict(self,models,X):\n",
    "        pred_0 = np.array([self.y_mean] * X.shape[0])\n",
    "        pred = pred_0 #.reshape(len(pred_0),1)\n",
    "        \n",
    "        # 加法模型預測\n",
    "        for i in range(len(models)):\n",
    "            temp = models[i].predict(X)\n",
    "            pred -= self.lr * temp\n",
    "        \n",
    "        return pred\n",
    "    \n",
    "    # 模型訓練\n",
    "    def train(self, X, y):\n",
    "        models = []\n",
    "        losses = []\n",
    "        self.y_mean = np.mean(y)\n",
    "        pred = np.array([np.mean(y)] * len(y))\n",
    "        \n",
    "        # 加法模型訓練\n",
    "        for epoch in range(self.num_iter):\n",
    "            loss = self.__calculate_loss(y, pred)\n",
    "            losses.append(loss)\n",
    "            grads = self.__take_gradient(y, pred)\n",
    "            base = self.__create_base_model(X, grads)\n",
    "            r = base.predict(X)\n",
    "            pred -= self.lr * r\n",
    "            models.append(base)\n",
    "            \n",
    "        return models, losses, pred"
   ]
  },
  {
   "cell_type": "markdown",
   "metadata": {},
   "source": [
    "## 模型訓練"
   ]
  },
  {
   "cell_type": "code",
   "execution_count": 6,
   "metadata": {},
   "outputs": [],
   "source": [
    "G = GradientBooster()\n",
    "models, losses, pred = G.train(X_train,y_train)"
   ]
  },
  {
   "cell_type": "markdown",
   "metadata": {},
   "source": [
    "## 繪製損失函數"
   ]
  },
  {
   "cell_type": "code",
   "execution_count": 7,
   "metadata": {},
   "outputs": [
    {
     "data": {
      "image/png": "[encoded data removed]",
      "text/plain": [
       "<Figure size 432x288 with 1 Axes>"
      ]
     },
     "metadata": {},
     "output_type": "display_data"
    }
   ],
   "source": [
    "import seaborn as sns\n",
    "sns.set_style('darkgrid')\n",
    "ax = sns.lineplot(x=range(1000),y=losses)\n",
    "ax.set(xlabel='Epoch',ylabel='Loss',title='Loss vs Epoch');"
   ]
  },
  {
   "cell_type": "markdown",
   "metadata": {},
   "source": [
    "## 模型評估"
   ]
  },
  {
   "cell_type": "code",
   "execution_count": 8,
   "metadata": {},
   "outputs": [
    {
     "name": "stdout",
     "output_type": "stream",
     "text": [
      "RMSE: 62.47630199377564\n"
     ]
    }
   ],
   "source": [
    "from sklearn.metrics import mean_squared_error\n",
    "y_pred = G.predict(models, X_test)\n",
    "print('RMSE:',np.sqrt(mean_squared_error(y_test,y_pred)))"
   ]
  },
  {
   "cell_type": "markdown",
   "metadata": {},
   "source": [
    "## 個別模型評估"
   ]
  },
  {
   "cell_type": "code",
   "execution_count": 9,
   "metadata": {},
   "outputs": [
    {
     "name": "stdout",
     "output_type": "stream",
     "text": [
      "RMSE: 75.54768636162939\n"
     ]
    }
   ],
   "source": [
    "model = DecisionTreeRegressor(max_depth=8,min_samples_split=5,\n",
    "                                    min_samples_leaf=5,max_features=3)\n",
    "model.fit(X_train,y_train)\n",
    "y_pred = model.predict(X_test)\n",
    "print('RMSE:',np.sqrt(mean_squared_error(y_test,y_pred)))"
   ]
  },
  {
   "cell_type": "markdown",
   "metadata": {},
   "source": [
    "## Scikit-learn GradientBoostingRegressor 模型評估"
   ]
  },
  {
   "cell_type": "code",
   "execution_count": 10,
   "metadata": {},
   "outputs": [
    {
     "name": "stdout",
     "output_type": "stream",
     "text": [
      "RMSE: 60.69114783838949\n"
     ]
    }
   ],
   "source": [
    "from sklearn.ensemble import GradientBoostingRegressor\n",
    "model = GradientBoostingRegressor(n_estimators=1000,criterion='squared_error',\n",
    "                                    max_depth=8,min_samples_split=5,\n",
    "                                    min_samples_leaf=5,max_features=3)\n",
    "model.fit(X_train,y_train)\n",
    "y_pred = model.predict(X_test)\n",
    "print('RMSE:',np.sqrt(mean_squared_error(y_test,y_pred)))"
   ]
  },
  {
   "cell_type": "markdown",
   "metadata": {},
   "source": [
    "## Scikit-learn GradientBoostingClassifier 模型評估"
   ]
  },
  {
   "cell_type": "code",
   "execution_count": 11,
   "metadata": {},
   "outputs": [
    {
     "data": {
      "text/plain": [
       "0.9229166666666667"
      ]
     },
     "execution_count": 11,
     "metadata": {},
     "output_type": "execute_result"
    }
   ],
   "source": [
    "from sklearn.datasets import make_hastie_10_2\n",
    "from sklearn.ensemble import GradientBoostingClassifier\n",
    "\n",
    "X, y = make_hastie_10_2(random_state=0)\n",
    "X_train, X_test, y_train, y_test = train_test_split(X, y, test_size=.2)\n",
    "\n",
    "clf = GradientBoostingClassifier(n_estimators=100, learning_rate=1.0,\n",
    "    max_depth=1, random_state=0).fit(X_train, y_train)\n",
    "clf.score(X_test, y_test)"
   ]
  },
  {
   "cell_type": "code",
   "execution_count": null,
   "metadata": {},
   "outputs": [],
   "source": []
  }
 ],
 "metadata": {
  "kernelspec": {
   "display_name": "Python 3 (ipykernel)",
   "language": "python",
   "name": "python3"
  },
  "language_info": {
   "codemirror_mode": {
    "name": "ipython",
    "version": 3
   },
   "file_extension": ".py",
   "mimetype": "text/x-python",
   "name": "python",
   "nbconvert_exporter": "python",
   "pygments_lexer": "ipython3",
   "version": "3.9.13"
  }
 },
 "nbformat": 4,
 "nbformat_minor": 2
}
